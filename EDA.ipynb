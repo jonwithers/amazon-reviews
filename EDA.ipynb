{
 "cells": [
  {
   "cell_type": "markdown",
   "metadata": {},
   "source": [
    "# Amazon Food Reviews\n",
    "[Source from Kaggle](https://www.kaggle.com/snap/amazon-fine-food-reviews#database.sqlite)\n",
    "\n",
    "This dataset contains 568,454 reviews of food items on Amazon.$^1$ In this project, I will use this data to demonstrate key NLP tasks and techniques, but there are many other uses for this data including social network analysis.\n",
    "\n",
    "<sub>1 When I looked for some of these reviews on Amazon.com, I couldn't find them (6 Aug 2018)</sub>"
   ]
  },
  {
   "cell_type": "markdown",
   "metadata": {},
   "source": [
    "## Imports\n",
    "Nothing too out of the ordinary."
   ]
  },
  {
   "cell_type": "code",
   "execution_count": 3,
   "metadata": {},
   "outputs": [],
   "source": [
    "import pandas as pd\n",
    "import numpy as np\n",
    "\n",
    "import matplotlib.pyplot as plt\n",
    "import seaborn as sns\n",
    "from scipy.stats import pearsonr\n",
    "\n",
    "import re\n",
    "\n",
    "from sklearn.metrics import confusion_matrix\n",
    "\n",
    "from sklearn.tree import DecisionTreeClassifier\n",
    "from sklearn.model_selection import train_test_split"
   ]
  },
  {
   "cell_type": "markdown",
   "metadata": {},
   "source": [
    "## Reading the data\n",
    "For now it is contained in a repo in this directory as a csv file. After reading it in, look at the shape and top of the dataframe to make sure it loaded."
   ]
  },
  {
   "cell_type": "code",
   "execution_count": 4,
   "metadata": {},
   "outputs": [],
   "source": [
    "df = pd.read_csv(\"./data/Reviews.csv\", index_col=0)"
   ]
  },
  {
   "cell_type": "code",
   "execution_count": 5,
   "metadata": {},
   "outputs": [
    {
     "data": {
      "text/plain": [
       "(568454, 9)"
      ]
     },
     "execution_count": 5,
     "metadata": {},
     "output_type": "execute_result"
    }
   ],
   "source": [
    "df.shape"
   ]
  },
  {
   "cell_type": "code",
   "execution_count": 6,
   "metadata": {},
   "outputs": [
    {
     "data": {
      "text/html": [
       "<div>\n",
       "<style scoped>\n",
       "    .dataframe tbody tr th:only-of-type {\n",
       "        vertical-align: middle;\n",
       "    }\n",
       "\n",
       "    .dataframe tbody tr th {\n",
       "        vertical-align: top;\n",
       "    }\n",
       "\n",
       "    .dataframe thead th {\n",
       "        text-align: right;\n",
       "    }\n",
       "</style>\n",
       "<table border=\"1\" class=\"dataframe\">\n",
       "  <thead>\n",
       "    <tr style=\"text-align: right;\">\n",
       "      <th></th>\n",
       "      <th>ProductId</th>\n",
       "      <th>UserId</th>\n",
       "      <th>ProfileName</th>\n",
       "      <th>HelpfulnessNumerator</th>\n",
       "      <th>HelpfulnessDenominator</th>\n",
       "      <th>Score</th>\n",
       "      <th>Time</th>\n",
       "      <th>Summary</th>\n",
       "      <th>Text</th>\n",
       "    </tr>\n",
       "    <tr>\n",
       "      <th>Id</th>\n",
       "      <th></th>\n",
       "      <th></th>\n",
       "      <th></th>\n",
       "      <th></th>\n",
       "      <th></th>\n",
       "      <th></th>\n",
       "      <th></th>\n",
       "      <th></th>\n",
       "      <th></th>\n",
       "    </tr>\n",
       "  </thead>\n",
       "  <tbody>\n",
       "    <tr>\n",
       "      <th>1</th>\n",
       "      <td>B001E4KFG0</td>\n",
       "      <td>A3SGXH7AUHU8GW</td>\n",
       "      <td>delmartian</td>\n",
       "      <td>1</td>\n",
       "      <td>1</td>\n",
       "      <td>5</td>\n",
       "      <td>1303862400</td>\n",
       "      <td>Good Quality Dog Food</td>\n",
       "      <td>I have bought several of the Vitality canned d...</td>\n",
       "    </tr>\n",
       "    <tr>\n",
       "      <th>2</th>\n",
       "      <td>B00813GRG4</td>\n",
       "      <td>A1D87F6ZCVE5NK</td>\n",
       "      <td>dll pa</td>\n",
       "      <td>0</td>\n",
       "      <td>0</td>\n",
       "      <td>1</td>\n",
       "      <td>1346976000</td>\n",
       "      <td>Not as Advertised</td>\n",
       "      <td>Product arrived labeled as Jumbo Salted Peanut...</td>\n",
       "    </tr>\n",
       "  </tbody>\n",
       "</table>\n",
       "</div>"
      ],
      "text/plain": [
       "     ProductId          UserId ProfileName  HelpfulnessNumerator  \\\n",
       "Id                                                                 \n",
       "1   B001E4KFG0  A3SGXH7AUHU8GW  delmartian                     1   \n",
       "2   B00813GRG4  A1D87F6ZCVE5NK      dll pa                     0   \n",
       "\n",
       "    HelpfulnessDenominator  Score        Time                Summary  \\\n",
       "Id                                                                     \n",
       "1                        1      5  1303862400  Good Quality Dog Food   \n",
       "2                        0      1  1346976000      Not as Advertised   \n",
       "\n",
       "                                                 Text  \n",
       "Id                                                     \n",
       "1   I have bought several of the Vitality canned d...  \n",
       "2   Product arrived labeled as Jumbo Salted Peanut...  "
      ]
     },
     "execution_count": 6,
     "metadata": {},
     "output_type": "execute_result"
    }
   ],
   "source": [
    "df.head(2)"
   ]
  },
  {
   "cell_type": "markdown",
   "metadata": {},
   "source": [
    "## Get validation data\n",
    "Right off the bat, reserve 10% for validation after all modeling is done. I don't want to use `train_test_split` because there isn't a set target yet."
   ]
  },
  {
   "cell_type": "code",
   "execution_count": 7,
   "metadata": {},
   "outputs": [],
   "source": [
    "# Set a validation size as 10% of the total data (round down)\n",
    "val_size = int(df.shape[0]* 0.1)"
   ]
  },
  {
   "cell_type": "code",
   "execution_count": 8,
   "metadata": {},
   "outputs": [],
   "source": [
    "# Randomly select from the index\n",
    "np.random.seed(11010)\n",
    "val_index = np.sort(np.random.choice(df.index, size = val_size, replace = False, ))"
   ]
  },
  {
   "cell_type": "code",
   "execution_count": 9,
   "metadata": {},
   "outputs": [
    {
     "name": "stdout",
     "output_type": "stream",
     "text": [
      "[    17     22     40 ..., 568409 568430 568452]\n"
     ]
    }
   ],
   "source": [
    "print(val_index)"
   ]
  },
  {
   "cell_type": "code",
   "execution_count": 10,
   "metadata": {},
   "outputs": [],
   "source": [
    "# And the rest of the data is set in a new index\n",
    "notval_index = set(df.index) - set(val_index)"
   ]
  },
  {
   "cell_type": "code",
   "execution_count": 11,
   "metadata": {},
   "outputs": [],
   "source": [
    "# Assign the rows by index to the two dataframes\n",
    "val = df.loc[val_index, :]"
   ]
  },
  {
   "cell_type": "code",
   "execution_count": 12,
   "metadata": {},
   "outputs": [],
   "source": [
    "df = df.loc[notval_index, :]"
   ]
  },
  {
   "cell_type": "code",
   "execution_count": 13,
   "metadata": {},
   "outputs": [
    {
     "name": "stdout",
     "output_type": "stream",
     "text": [
      "Number of rows in new dataframe:  511609\n"
     ]
    }
   ],
   "source": [
    "print(\"Number of rows in new dataframe: \", df.shape[0])"
   ]
  },
  {
   "cell_type": "code",
   "execution_count": 14,
   "metadata": {},
   "outputs": [
    {
     "name": "stdout",
     "output_type": "stream",
     "text": [
      "Number of rows in validation dataframe:  56845\n"
     ]
    }
   ],
   "source": [
    "print(\"Number of rows in validation dataframe: \",val.shape[0])"
   ]
  },
  {
   "cell_type": "markdown",
   "metadata": {},
   "source": [
    "## EDA\n",
    "What are the data types in the set? (`object` means string in the pandas context)"
   ]
  },
  {
   "cell_type": "code",
   "execution_count": 15,
   "metadata": {},
   "outputs": [
    {
     "data": {
      "text/plain": [
       "ProductId                 object\n",
       "UserId                    object\n",
       "ProfileName               object\n",
       "HelpfulnessNumerator       int64\n",
       "HelpfulnessDenominator     int64\n",
       "Score                      int64\n",
       "Time                       int64\n",
       "Summary                   object\n",
       "Text                      object\n",
       "dtype: object"
      ]
     },
     "execution_count": 15,
     "metadata": {},
     "output_type": "execute_result"
    }
   ],
   "source": [
    "df.dtypes"
   ]
  },
  {
   "cell_type": "markdown",
   "metadata": {},
   "source": [
    "`ProductId` and `UserId` are hashes. Let's check to be sure that for every unique `UserId` we get the same `ProfileName`. (The number of unique user IDs should be greater than or equal to the number of unique profile names, assuming that it's possible for people to choose non-unique profile names.)"
   ]
  },
  {
   "cell_type": "code",
   "execution_count": 16,
   "metadata": {},
   "outputs": [
    {
     "name": "stdout",
     "output_type": "stream",
     "text": [
      "There are 238026 unique user IDs.\n",
      "There are 203756 unique profile names. \n"
     ]
    }
   ],
   "source": [
    "print(\"There are {} unique user IDs.\".format(len(df['UserId'].unique())))\n",
    "print(\"There are {} unique profile names. \".format(len(df['ProfileName'].unique())))"
   ]
  },
  {
   "cell_type": "code",
   "execution_count": 17,
   "metadata": {},
   "outputs": [
    {
     "data": {
      "text/plain": [
       "count             511609\n",
       "unique            238026\n",
       "top       A3OXHLG6DIBRW8\n",
       "freq                 401\n",
       "Name: UserId, dtype: object"
      ]
     },
     "execution_count": 17,
     "metadata": {},
     "output_type": "execute_result"
    }
   ],
   "source": [
    "df['UserId'].describe()"
   ]
  },
  {
   "cell_type": "code",
   "execution_count": 18,
   "metadata": {},
   "outputs": [
    {
     "name": "stdout",
     "output_type": "stream",
     "text": [
      "There are 46 user Ids with more than one associated profile name.\n"
     ]
    }
   ],
   "source": [
    "i = 0\n",
    "for l in df.groupby('UserId')['ProfileName'].unique():\n",
    "    if len(l) != 1:\n",
    "        i += 1\n",
    "print(f\"There are {i} user Ids with more than one associated profile name.\")"
   ]
  },
  {
   "cell_type": "markdown",
   "metadata": {},
   "source": [
    "Of the user Ids with more than one associated user name, there are always 2 names. Either one of them is 'A Customer', or the two names are somewhat plausibly related (initials versus full name, or some kind of website, for example.)"
   ]
  },
  {
   "cell_type": "markdown",
   "metadata": {},
   "source": [
    "Helpfulness is a measure of how users rate a review by clicking either helpful or not helpful. This is expressed on the website as `X of Y users found this review helpful`. I'd rather know how many users clicked each option, so I'm going to translate the numerator and denominator to ups and downs."
   ]
  },
  {
   "cell_type": "code",
   "execution_count": 19,
   "metadata": {},
   "outputs": [
    {
     "data": {
      "text/html": [
       "<div>\n",
       "<style scoped>\n",
       "    .dataframe tbody tr th:only-of-type {\n",
       "        vertical-align: middle;\n",
       "    }\n",
       "\n",
       "    .dataframe tbody tr th {\n",
       "        vertical-align: top;\n",
       "    }\n",
       "\n",
       "    .dataframe thead th {\n",
       "        text-align: right;\n",
       "    }\n",
       "</style>\n",
       "<table border=\"1\" class=\"dataframe\">\n",
       "  <thead>\n",
       "    <tr style=\"text-align: right;\">\n",
       "      <th></th>\n",
       "      <th>HelpfulnessNumerator</th>\n",
       "      <th>HelpfulnessDenominator</th>\n",
       "    </tr>\n",
       "    <tr>\n",
       "      <th>Id</th>\n",
       "      <th></th>\n",
       "      <th></th>\n",
       "    </tr>\n",
       "  </thead>\n",
       "  <tbody>\n",
       "    <tr>\n",
       "      <th>1</th>\n",
       "      <td>1</td>\n",
       "      <td>1</td>\n",
       "    </tr>\n",
       "    <tr>\n",
       "      <th>2</th>\n",
       "      <td>0</td>\n",
       "      <td>0</td>\n",
       "    </tr>\n",
       "    <tr>\n",
       "      <th>3</th>\n",
       "      <td>1</td>\n",
       "      <td>1</td>\n",
       "    </tr>\n",
       "    <tr>\n",
       "      <th>4</th>\n",
       "      <td>3</td>\n",
       "      <td>3</td>\n",
       "    </tr>\n",
       "    <tr>\n",
       "      <th>5</th>\n",
       "      <td>0</td>\n",
       "      <td>0</td>\n",
       "    </tr>\n",
       "  </tbody>\n",
       "</table>\n",
       "</div>"
      ],
      "text/plain": [
       "    HelpfulnessNumerator  HelpfulnessDenominator\n",
       "Id                                              \n",
       "1                      1                       1\n",
       "2                      0                       0\n",
       "3                      1                       1\n",
       "4                      3                       3\n",
       "5                      0                       0"
      ]
     },
     "execution_count": 19,
     "metadata": {},
     "output_type": "execute_result"
    }
   ],
   "source": [
    "df[['HelpfulnessNumerator', 'HelpfulnessDenominator']].head()"
   ]
  },
  {
   "cell_type": "code",
   "execution_count": 20,
   "metadata": {},
   "outputs": [],
   "source": [
    "df['Helpful_rating'] = df['HelpfulnessNumerator']\n",
    "df['Unhelpful_rating'] = df['HelpfulnessDenominator'] - df['HelpfulnessNumerator']\n",
    "df.drop(['HelpfulnessNumerator', 'HelpfulnessDenominator'], axis=1, inplace=True)"
   ]
  },
  {
   "cell_type": "code",
   "execution_count": 21,
   "metadata": {},
   "outputs": [],
   "source": [
    "df['Summary_length'] = df['Summary'].map(lambda x: len(str(x)))"
   ]
  },
  {
   "cell_type": "code",
   "execution_count": 22,
   "metadata": {},
   "outputs": [
    {
     "data": {
      "text/html": [
       "<div>\n",
       "<style scoped>\n",
       "    .dataframe tbody tr th:only-of-type {\n",
       "        vertical-align: middle;\n",
       "    }\n",
       "\n",
       "    .dataframe tbody tr th {\n",
       "        vertical-align: top;\n",
       "    }\n",
       "\n",
       "    .dataframe thead th {\n",
       "        text-align: right;\n",
       "    }\n",
       "</style>\n",
       "<table border=\"1\" class=\"dataframe\">\n",
       "  <thead>\n",
       "    <tr style=\"text-align: right;\">\n",
       "      <th></th>\n",
       "      <th>ProductId</th>\n",
       "      <th>UserId</th>\n",
       "      <th>ProfileName</th>\n",
       "      <th>Score</th>\n",
       "      <th>Time</th>\n",
       "      <th>Summary</th>\n",
       "      <th>Text</th>\n",
       "      <th>Helpful_rating</th>\n",
       "      <th>Unhelpful_rating</th>\n",
       "      <th>Summary_length</th>\n",
       "    </tr>\n",
       "    <tr>\n",
       "      <th>Id</th>\n",
       "      <th></th>\n",
       "      <th></th>\n",
       "      <th></th>\n",
       "      <th></th>\n",
       "      <th></th>\n",
       "      <th></th>\n",
       "      <th></th>\n",
       "      <th></th>\n",
       "      <th></th>\n",
       "      <th></th>\n",
       "    </tr>\n",
       "  </thead>\n",
       "  <tbody>\n",
       "    <tr>\n",
       "      <th>1</th>\n",
       "      <td>B001E4KFG0</td>\n",
       "      <td>A3SGXH7AUHU8GW</td>\n",
       "      <td>delmartian</td>\n",
       "      <td>5</td>\n",
       "      <td>1303862400</td>\n",
       "      <td>Good Quality Dog Food</td>\n",
       "      <td>I have bought several of the Vitality canned d...</td>\n",
       "      <td>1</td>\n",
       "      <td>0</td>\n",
       "      <td>21</td>\n",
       "    </tr>\n",
       "    <tr>\n",
       "      <th>2</th>\n",
       "      <td>B00813GRG4</td>\n",
       "      <td>A1D87F6ZCVE5NK</td>\n",
       "      <td>dll pa</td>\n",
       "      <td>1</td>\n",
       "      <td>1346976000</td>\n",
       "      <td>Not as Advertised</td>\n",
       "      <td>Product arrived labeled as Jumbo Salted Peanut...</td>\n",
       "      <td>0</td>\n",
       "      <td>0</td>\n",
       "      <td>17</td>\n",
       "    </tr>\n",
       "  </tbody>\n",
       "</table>\n",
       "</div>"
      ],
      "text/plain": [
       "     ProductId          UserId ProfileName  Score        Time  \\\n",
       "Id                                                              \n",
       "1   B001E4KFG0  A3SGXH7AUHU8GW  delmartian      5  1303862400   \n",
       "2   B00813GRG4  A1D87F6ZCVE5NK      dll pa      1  1346976000   \n",
       "\n",
       "                  Summary                                               Text  \\\n",
       "Id                                                                             \n",
       "1   Good Quality Dog Food  I have bought several of the Vitality canned d...   \n",
       "2       Not as Advertised  Product arrived labeled as Jumbo Salted Peanut...   \n",
       "\n",
       "    Helpful_rating  Unhelpful_rating  Summary_length  \n",
       "Id                                                    \n",
       "1                1                 0              21  \n",
       "2                0                 0              17  "
      ]
     },
     "execution_count": 22,
     "metadata": {},
     "output_type": "execute_result"
    }
   ],
   "source": [
    "df.head(2)"
   ]
  },
  {
   "cell_type": "code",
   "execution_count": 23,
   "metadata": {},
   "outputs": [
    {
     "data": {
      "text/plain": [
       "<matplotlib.axes._subplots.AxesSubplot at 0x1a20a440f0>"
      ]
     },
     "execution_count": 23,
     "metadata": {},
     "output_type": "execute_result"
    },
    {
     "data": {
      "image/png": "[encoded data removed]",
      "text/plain": [
       "<matplotlib.figure.Figure at 0x1139b8320>"
      ]
     },
     "metadata": {},
     "output_type": "display_data"
    }
   ],
   "source": [
    "sns.regplot(x = 'Summary_length', y = 'Helpful_rating', data = df, scatter_kws={'alpha': 0.2})"
   ]
  },
  {
   "cell_type": "code",
   "execution_count": 24,
   "metadata": {},
   "outputs": [
    {
     "data": {
      "text/plain": [
       "(0.057990449579069674, 0.0)"
      ]
     },
     "execution_count": 24,
     "metadata": {},
     "output_type": "execute_result"
    }
   ],
   "source": [
    "pearsonr(df['Summary_length'], df['Helpful_rating'])"
   ]
  },
  {
   "cell_type": "code",
   "execution_count": 25,
   "metadata": {},
   "outputs": [
    {
     "data": {
      "text/plain": [
       "<matplotlib.axes._subplots.AxesSubplot at 0x1a184f2f28>"
      ]
     },
     "execution_count": 25,
     "metadata": {},
     "output_type": "execute_result"
    },
    {
     "data": {
      "image/png": "[encoded data removed]",
      "text/plain": [
       "<matplotlib.figure.Figure at 0x1a1748ab00>"
      ]
     },
     "metadata": {},
     "output_type": "display_data"
    }
   ],
   "source": [
    "sns.distplot(df['Summary_length'], kde = False)"
   ]
  },
  {
   "cell_type": "code",
   "execution_count": 26,
   "metadata": {},
   "outputs": [
    {
     "data": {
      "text/html": [
       "<div>\n",
       "<style scoped>\n",
       "    .dataframe tbody tr th:only-of-type {\n",
       "        vertical-align: middle;\n",
       "    }\n",
       "\n",
       "    .dataframe tbody tr th {\n",
       "        vertical-align: top;\n",
       "    }\n",
       "\n",
       "    .dataframe thead th {\n",
       "        text-align: right;\n",
       "    }\n",
       "</style>\n",
       "<table border=\"1\" class=\"dataframe\">\n",
       "  <thead>\n",
       "    <tr style=\"text-align: right;\">\n",
       "      <th></th>\n",
       "      <th>ProductId</th>\n",
       "      <th>UserId</th>\n",
       "      <th>ProfileName</th>\n",
       "      <th>Score</th>\n",
       "      <th>Time</th>\n",
       "      <th>Summary</th>\n",
       "      <th>Text</th>\n",
       "      <th>Helpful_rating</th>\n",
       "      <th>Unhelpful_rating</th>\n",
       "      <th>Summary_length</th>\n",
       "    </tr>\n",
       "    <tr>\n",
       "      <th>Id</th>\n",
       "      <th></th>\n",
       "      <th></th>\n",
       "      <th></th>\n",
       "      <th></th>\n",
       "      <th></th>\n",
       "      <th></th>\n",
       "      <th></th>\n",
       "      <th></th>\n",
       "      <th></th>\n",
       "      <th></th>\n",
       "    </tr>\n",
       "  </thead>\n",
       "  <tbody>\n",
       "    <tr>\n",
       "      <th>190734</th>\n",
       "      <td>B000FI4O90</td>\n",
       "      <td>A1GQGYROVZVW49</td>\n",
       "      <td>P. Schmidt</td>\n",
       "      <td>5</td>\n",
       "      <td>1164672000</td>\n",
       "      <td>Works as Advertised - Classy Product</td>\n",
       "      <td>see update at end of review&lt;br /&gt;&lt;br /&gt;*******...</td>\n",
       "      <td>866</td>\n",
       "      <td>12</td>\n",
       "      <td>36</td>\n",
       "    </tr>\n",
       "  </tbody>\n",
       "</table>\n",
       "</div>"
      ],
      "text/plain": [
       "         ProductId          UserId ProfileName  Score        Time  \\\n",
       "Id                                                                  \n",
       "190734  B000FI4O90  A1GQGYROVZVW49  P. Schmidt      5  1164672000   \n",
       "\n",
       "                                     Summary  \\\n",
       "Id                                             \n",
       "190734  Works as Advertised - Classy Product   \n",
       "\n",
       "                                                     Text  Helpful_rating  \\\n",
       "Id                                                                          \n",
       "190734  see update at end of review<br /><br />*******...             866   \n",
       "\n",
       "        Unhelpful_rating  Summary_length  \n",
       "Id                                        \n",
       "190734                12              36  "
      ]
     },
     "execution_count": 26,
     "metadata": {},
     "output_type": "execute_result"
    }
   ],
   "source": [
    "df[df['Helpful_rating'] == df['Helpful_rating'].max()]"
   ]
  },
  {
   "cell_type": "code",
   "execution_count": 27,
   "metadata": {},
   "outputs": [
    {
     "data": {
      "text/plain": [
       "'I was lamenting about only having frech lettuce, herbs, chives, and tomatoes from may garden during the long fall-winter-spring parts of the year. '"
      ]
     },
     "execution_count": 27,
     "metadata": {},
     "output_type": "execute_result"
    }
   ],
   "source": [
    "df.loc[190734, 'Text'][69:216]"
   ]
  },
  {
   "cell_type": "code",
   "execution_count": 28,
   "metadata": {},
   "outputs": [
    {
     "data": {
      "text/plain": [
       "count    511609.000000\n",
       "mean          4.183089\n",
       "std           1.310103\n",
       "min           1.000000\n",
       "25%           4.000000\n",
       "50%           5.000000\n",
       "75%           5.000000\n",
       "max           5.000000\n",
       "Name: Score, dtype: float64"
      ]
     },
     "execution_count": 28,
     "metadata": {},
     "output_type": "execute_result"
    }
   ],
   "source": [
    "df['Score'].describe()"
   ]
  },
  {
   "cell_type": "code",
   "execution_count": 29,
   "metadata": {},
   "outputs": [
    {
     "data": {
      "image/png": "[encoded data removed]",
      "text/plain": [
       "<matplotlib.figure.Figure at 0x1a17e2b908>"
      ]
     },
     "metadata": {},
     "output_type": "display_data"
    }
   ],
   "source": [
    "plt.bar(x = df.groupby('Score')['Summary'].count().index, \n",
    "        height = df.groupby('Score')['Summary'].count().values,\n",
    "        width = 1,\n",
    "        color = 'xkcd:deep blue',\n",
    "        alpha = 0.8)\n",
    "\n",
    "plt.title(\"Distribution of Scores\", fontsize = 22)\n",
    "plt.xticks(fontsize = 18)\n",
    "plt.yticks(fontsize = 14)\n",
    "plt.show()"
   ]
  },
  {
   "cell_type": "markdown",
   "metadata": {},
   "source": [
    "## Getting X and y\n",
    "For fun, I could extract some features from `ProfileName` and try to use that to predict how helpful a score they give. Since this isn't super serious, I'm going to pick whether or not a review was listed as helpful by anyone as a new categorical target variable."
   ]
  },
  {
   "cell_type": "code",
   "execution_count": 152,
   "metadata": {},
   "outputs": [
    {
     "data": {
      "text/plain": [
       "count    511594.000000\n",
       "mean          1.742630\n",
       "std           7.669505\n",
       "min           0.000000\n",
       "25%           0.000000\n",
       "50%           0.000000\n",
       "75%           2.000000\n",
       "max         866.000000\n",
       "Name: Helpful_rating, dtype: float64"
      ]
     },
     "execution_count": 152,
     "metadata": {},
     "output_type": "execute_result"
    }
   ],
   "source": [
    "df['Helpful_rating'].describe()"
   ]
  },
  {
   "cell_type": "code",
   "execution_count": 153,
   "metadata": {},
   "outputs": [
    {
     "data": {
      "text/plain": [
       "<matplotlib.axes._subplots.AxesSubplot at 0x1a23549748>"
      ]
     },
     "execution_count": 153,
     "metadata": {},
     "output_type": "execute_result"
    },
    {
     "data": {
      "image/png": "[encoded data removed]",
      "text/plain": [
       "<matplotlib.figure.Figure at 0x1a231ab278>"
      ]
     },
     "metadata": {},
     "output_type": "display_data"
    }
   ],
   "source": [
    "sns.distplot(df['Helpful_rating'], kde = False, hist_kws={'log': True})"
   ]
  },
  {
   "cell_type": "code",
   "execution_count": 163,
   "metadata": {},
   "outputs": [
    {
     "data": {
      "image/png": "[encoded data removed]",
      "text/plain": [
       "<matplotlib.figure.Figure at 0x1a26c50cf8>"
      ]
     },
     "metadata": {},
     "output_type": "display_data"
    }
   ],
   "source": [
    "df['helpful_not_zero'] = df['Helpful_rating'].map(lambda x: 1 if x != 0 else 0)\n",
    "\n",
    "plt.bar(x = df.groupby('helpful_not_zero')['Summary'].count().index, \n",
    "        height = df.groupby('helpful_not_zero')['Summary'].count().values)\n",
    "plt.xticks([0,1], ['zero', 'more than zero'])\n",
    "plt.title(\"Binarization of Helpfulness\")\n",
    "plt.show()"
   ]
  },
  {
   "cell_type": "code",
   "execution_count": 161,
   "metadata": {},
   "outputs": [
    {
     "data": {
      "image/png": "[encoded data removed]",
      "text/plain": [
       "<matplotlib.figure.Figure at 0x1a25c43f98>"
      ]
     },
     "metadata": {},
     "output_type": "display_data"
    }
   ],
   "source": [
    "df['score_5'] = df['Score'].map(lambda x: 1 if x == 5 else 0)\n",
    "\n",
    "plt.bar(x = df.groupby('score_5')['Summary'].count().index, \n",
    "        height = df.groupby('score_5')['Summary'].count().values)\n",
    "plt.xticks([0,1], ['less than 5', '5'])\n",
    "plt.title(\"Binarization of scores\")\n",
    "plt.show()"
   ]
  },
  {
   "cell_type": "markdown",
   "metadata": {},
   "source": [
    "***Idea #1: usernames with quotes in them might be more or less helpful.***"
   ]
  },
  {
   "cell_type": "code",
   "execution_count": null,
   "metadata": {},
   "outputs": [],
   "source": []
  },
  {
   "cell_type": "code",
   "execution_count": 36,
   "metadata": {},
   "outputs": [],
   "source": [
    "df['has_quotes'] = df['ProfileName'].str.contains('\"').map(lambda x: 1 if x else 0)"
   ]
  },
  {
   "cell_type": "code",
   "execution_count": 37,
   "metadata": {},
   "outputs": [
    {
     "data": {
      "text/plain": [
       "Text(0.5,1,'Quotes and Helpfulness\\n')"
      ]
     },
     "execution_count": 37,
     "metadata": {},
     "output_type": "execute_result"
    },
    {
     "data": {
      "image/png": "[encoded data removed]",
      "text/plain": [
       "<matplotlib.figure.Figure at 0x1a19074da0>"
      ]
     },
     "metadata": {},
     "output_type": "display_data"
    }
   ],
   "source": [
    "sns.heatmap(confusion_matrix(df['helpful_not_zero'], df['has_quotes']), annot = True, fmt = 'g', cmap = 'binary')\n",
    "plt.ylabel(\"Helpfulness is or isn't 0\", fontsize = 15)\n",
    "plt.xlabel(\"Name has or doesn't have quotes in it\", fontsize = 15)\n",
    "plt.title(\"Quotes and Helpfulness\\n\", fontsize = 18)"
   ]
  },
  {
   "cell_type": "code",
   "execution_count": 38,
   "metadata": {},
   "outputs": [
    {
     "data": {
      "text/plain": [
       "Text(0.5,1,'Quotes and Score\\n')"
      ]
     },
     "execution_count": 38,
     "metadata": {},
     "output_type": "execute_result"
    },
    {
     "data": {
      "image/png": "[encoded data removed]",
      "text/plain": [
       "<matplotlib.figure.Figure at 0x1a17a5e588>"
      ]
     },
     "metadata": {},
     "output_type": "display_data"
    }
   ],
   "source": [
    "sns.heatmap(confusion_matrix(df['score_5'], df['has_quotes']), annot = True, fmt = 'g', cmap = 'binary')\n",
    "plt.ylabel(\"Score is or isn't 5\", fontsize = 15)\n",
    "plt.xlabel(\"Name has or doesn't have quotes in it\", fontsize = 15)\n",
    "plt.title(\"Quotes and Score\\n\", fontsize = 18)"
   ]
  },
  {
   "cell_type": "code",
   "execution_count": 39,
   "metadata": {},
   "outputs": [
    {
     "name": "stdout",
     "output_type": "stream",
     "text": [
      "Has no quotes in name and didn't give a 5:    135218\n",
      "Has no quotes in name and gave a 5:           236701\n",
      "Has quotes in name and didn't give a 5:        49685\n",
      "Has quotes in name and gave a 5:               90005\n",
      "\n",
      "64.43% of users with quotes in their name gave a five-star rating.\n",
      "63.64% of users without quotes in their name gave a five-star rating.\n"
     ]
    }
   ],
   "source": [
    "no_quotes_no_five = df[(df['has_quotes'] == 0 ) & (df['score_5'] == 0 )].shape[0]\n",
    "no_quotes_yes_five = df[(df['has_quotes'] == 0 ) & (df['score_5'] == 1 )].shape[0]\n",
    "yes_quotes_no_five = df[(df['has_quotes'] == 1 ) & (df['score_5'] == 0 )].shape[0]\n",
    "yes_quotes_yes_five = df[(df['has_quotes'] == 1 ) & (df['score_5'] == 1 )].shape[0]\n",
    "\n",
    "no_quotes_total = df[(df['has_quotes'] == 0 )].shape[0]\n",
    "yes_quotes_total = df[(df['has_quotes'] == 1 )].shape[0]\n",
    "\n",
    "print(\"Has no quotes in name and didn't give a 5: \".ljust(45), no_quotes_no_five)\n",
    "print(\"Has no quotes in name and gave a 5: \".ljust(45), no_quotes_yes_five)\n",
    "print(\"Has quotes in name and didn't give a 5: \".ljust(46), yes_quotes_no_five)\n",
    "print(\"Has quotes in name and gave a 5: \".ljust(46), yes_quotes_yes_five)\n",
    "print()\n",
    "print(\"{:.2%} of users with quotes in their name gave a five-star rating.\".format(yes_quotes_yes_five/yes_quotes_total))\n",
    "print(\"{:.2%} of users without quotes in their name gave a five-star rating.\".format(no_quotes_yes_five/no_quotes_total))"
   ]
  },
  {
   "cell_type": "code",
   "execution_count": 40,
   "metadata": {},
   "outputs": [
    {
     "name": "stdout",
     "output_type": "stream",
     "text": [
      "Has no quotes in name and got a zero in helpfulness:              203586\n",
      "Has no quotes in name and got above zero in helpfulness:          168333\n",
      "Has quotes in name and got a zero in helpfulness:                  69879\n",
      "Has quotes in name and got above zero in helpfulness:              69811\n",
      "\n",
      "49.98% of users with quotes in their name were helpful.\n",
      "45.26% of users without quotes in their name were helpful.\n"
     ]
    }
   ],
   "source": [
    "no_quotes_not_helpful = df[(df['has_quotes'] == 0 ) & (df['helpful_not_zero'] == 0 )].shape[0]\n",
    "no_quotes_yes_helpful = df[(df['has_quotes'] == 0 ) & (df['helpful_not_zero'] == 1 )].shape[0]\n",
    "yes_quotes_not_helpful = df[(df['has_quotes'] == 1 ) & (df['helpful_not_zero'] == 0 )].shape[0]\n",
    "yes_quotes_yes_helpful = df[(df['has_quotes'] == 1 ) & (df['helpful_not_zero'] == 1 )].shape[0]\n",
    "\n",
    "print(\"Has no quotes in name and got a zero in helpfulness: \".ljust(65), no_quotes_not_helpful)\n",
    "print(\"Has no quotes in name and got above zero in helpfulness: \".ljust(65), no_quotes_yes_helpful)\n",
    "print(\"Has quotes in name and got a zero in helpfulness: \".ljust(66), yes_quotes_not_helpful)\n",
    "print(\"Has quotes in name and got above zero in helpfulness: \".ljust(66), yes_quotes_yes_helpful)\n",
    "print()\n",
    "print(\"{:.2%} of users with quotes in their name were helpful.\".format(yes_quotes_yes_helpful/yes_quotes_total))\n",
    "print(\"{:.2%} of users without quotes in their name were helpful.\".format(no_quotes_yes_helpful/no_quotes_total))"
   ]
  },
  {
   "cell_type": "markdown",
   "metadata": {},
   "source": [
    "OK, so this isn't really paying off. How about checking to see if a username fits the pattern First M. Last?"
   ]
  },
  {
   "cell_type": "code",
   "execution_count": 41,
   "metadata": {},
   "outputs": [],
   "source": [
    "def full_name_check(text):\n",
    "    pattern = r\"\\b[A-Z][a-z]+ [A-Z]. [A-Z][a-z]+\"\n",
    "    if re.match(pattern=pattern, string=str(text)) != None:\n",
    "        return 1\n",
    "    else:\n",
    "        return 0"
   ]
  },
  {
   "cell_type": "code",
   "execution_count": 42,
   "metadata": {},
   "outputs": [],
   "source": [
    "df['is_fullname'] = df['ProfileName'].map(full_name_check)"
   ]
  },
  {
   "cell_type": "code",
   "execution_count": 43,
   "metadata": {},
   "outputs": [
    {
     "name": "stdout",
     "output_type": "stream",
     "text": [
      "Not a fullname, got a zero in helpfulness:                        249459\n",
      "Not a fullname, got above zero in helpfulness:                    215989\n",
      "Fullname, got a zero in helpfulness:                               24006\n",
      "Fullname, got above zero in helpfulness:                           22155\n",
      "\n",
      "48.00% of users with full names were helpful.\n",
      "46.40% of users without full names were helpful.\n"
     ]
    }
   ],
   "source": [
    "no_fullname_not_helpful = df[(df['is_fullname'] == 0 ) & (df['helpful_not_zero'] == 0 )].shape[0]\n",
    "no_fullname_yes_helpful = df[(df['is_fullname'] == 0 ) & (df['helpful_not_zero'] == 1 )].shape[0]\n",
    "yes_fullname_not_helpful = df[(df['is_fullname'] == 1 ) & (df['helpful_not_zero'] == 0 )].shape[0]\n",
    "yes_fullname_yes_helpful = df[(df['is_fullname'] == 1 ) & (df['helpful_not_zero'] == 1 )].shape[0]\n",
    "\n",
    "no_fullname_total = df[df['is_fullname'] == 0].shape[0]\n",
    "yes_fullname_total = df[df['is_fullname'] == 1].shape[0]\n",
    "\n",
    "print(\"Not a fullname, got a zero in helpfulness: \".ljust(65), no_fullname_not_helpful)\n",
    "print(\"Not a fullname, got above zero in helpfulness: \".ljust(65), no_fullname_yes_helpful)\n",
    "print(\"Fullname, got a zero in helpfulness: \".ljust(66), yes_fullname_not_helpful)\n",
    "print(\"Fullname, got above zero in helpfulness: \".ljust(66), yes_fullname_yes_helpful)\n",
    "print()\n",
    "print(\"{:.2%} of users with full names were helpful.\".format(yes_fullname_yes_helpful/yes_fullname_total))\n",
    "print(\"{:.2%} of users without full names were helpful.\".format(no_fullname_yes_helpful/no_fullname_total))"
   ]
  },
  {
   "cell_type": "code",
   "execution_count": 44,
   "metadata": {},
   "outputs": [
    {
     "name": "stdout",
     "output_type": "stream",
     "text": [
      "Not a fullname, gave below 5 stars:                               169889\n",
      "Not a fullname, gave 5 stars:                                     295559\n",
      "Fullname, gave below 5 stars:                                      15014\n",
      "Fullname, gave 5 stars:                                            31147\n",
      "\n",
      "67.47% of users with full names gave 5 stars.\n",
      "63.50% of users without full names gave 5 stars.\n"
     ]
    }
   ],
   "source": [
    "no_fullname_not_five = df[(df['is_fullname'] == 0 ) & (df['score_5'] == 0 )].shape[0]\n",
    "no_fullname_yes_five = df[(df['is_fullname'] == 0 ) & (df['score_5'] == 1 )].shape[0]\n",
    "yes_fullname_not_five = df[(df['is_fullname'] == 1 ) & (df['score_5'] == 0 )].shape[0]\n",
    "yes_fullname_yes_five = df[(df['is_fullname'] == 1 ) & (df['score_5'] == 1 )].shape[0]\n",
    "\n",
    "no_fullname_total = df[df['is_fullname'] == 0].shape[0]\n",
    "yes_fullname_total = df[df['is_fullname'] == 1].shape[0]\n",
    "\n",
    "print(\"Not a fullname, gave below 5 stars: \".ljust(65), no_fullname_not_five)\n",
    "print(\"Not a fullname, gave 5 stars: \".ljust(65), no_fullname_yes_five)\n",
    "print(\"Fullname, gave below 5 stars: \".ljust(66), yes_fullname_not_five)\n",
    "print(\"Fullname, gave 5 stars: \".ljust(66), yes_fullname_yes_five)\n",
    "print()\n",
    "print(\"{:.2%} of users with full names gave 5 stars.\".format(yes_fullname_yes_five/yes_fullname_total))\n",
    "print(\"{:.2%} of users without full names gave 5 stars.\".format(no_fullname_yes_five/no_fullname_total))"
   ]
  },
  {
   "cell_type": "markdown",
   "metadata": {},
   "source": [
    "Next, what about if there aren't very many vowels in a username? It's more likely to be a random \"kewl\" username and not someone's real name. Do users who prize anonymity behave and/or are treated differently?"
   ]
  },
  {
   "cell_type": "code",
   "execution_count": 45,
   "metadata": {},
   "outputs": [],
   "source": [
    "def vowel_counter(text):\n",
    "    vowels = {'a', 'e', 'i', 'o', 'u'}\n",
    "    count = 0\n",
    "    for letter in str(text):\n",
    "        if letter.lower() in vowels:\n",
    "            count += 1\n",
    "    return count"
   ]
  },
  {
   "cell_type": "code",
   "execution_count": 46,
   "metadata": {},
   "outputs": [],
   "source": [
    "df['vowels_in_profilename'] = df['ProfileName'].map(vowel_counter)"
   ]
  },
  {
   "cell_type": "code",
   "execution_count": 47,
   "metadata": {},
   "outputs": [
    {
     "data": {
      "text/plain": [
       "<matplotlib.axes._subplots.AxesSubplot at 0x1a174c2630>"
      ]
     },
     "execution_count": 47,
     "metadata": {},
     "output_type": "execute_result"
    },
    {
     "data": {
      "image/png": "[encoded data removed]",
      "text/plain": [
       "<matplotlib.figure.Figure at 0x1a174b9dd8>"
      ]
     },
     "metadata": {},
     "output_type": "display_data"
    }
   ],
   "source": [
    "sns.distplot(df['vowels_in_profilename'], kde = False)"
   ]
  },
  {
   "cell_type": "code",
   "execution_count": 48,
   "metadata": {},
   "outputs": [
    {
     "data": {
      "text/plain": [
       "<matplotlib.axes._subplots.AxesSubplot at 0x1a174c2780>"
      ]
     },
     "execution_count": 48,
     "metadata": {},
     "output_type": "execute_result"
    },
    {
     "data": {
      "image/png": "[encoded data removed]",
      "text/plain": [
       "<matplotlib.figure.Figure at 0x1a17d66400>"
      ]
     },
     "metadata": {},
     "output_type": "display_data"
    }
   ],
   "source": [
    "sns.regplot(x = 'vowels_in_profilename', y = 'Helpful_rating', data = df)"
   ]
  },
  {
   "cell_type": "markdown",
   "metadata": {},
   "source": [
    "Are these features real? Nope."
   ]
  },
  {
   "cell_type": "code",
   "execution_count": 47,
   "metadata": {},
   "outputs": [
    {
     "name": "stdout",
     "output_type": "stream",
     "text": [
      "Corr: 0.02216 p-value: 1.417e-56\n",
      "Corr: 0.01065 p-value: 2.58e-14\n"
     ]
    }
   ],
   "source": [
    "corr, p = pearsonr(df['vowels_in_profilename'], df['Helpful_rating'])\n",
    "\n",
    "print(\"Corr: {:.4} p-value: {:.4}\".format(corr, p))\n",
    "\n",
    "corr, p = pearsonr(df['vowels_in_profilename'], df['score_5'])\n",
    "\n",
    "print(\"Corr: {:.4} p-value: {:.4}\".format(corr, p))"
   ]
  },
  {
   "cell_type": "code",
   "execution_count": 48,
   "metadata": {},
   "outputs": [
    {
     "data": {
      "text/plain": [
       "Index(['ProductId', 'UserId', 'ProfileName', 'Score', 'Time', 'Summary',\n",
       "       'Text', 'Helpful_rating', 'Unhelpful_rating', 'Summary_length',\n",
       "       'helpful_not_zero', 'score_5', 'has_quotes', 'is_fullname',\n",
       "       'vowels_in_profilename'],\n",
       "      dtype='object')"
      ]
     },
     "execution_count": 48,
     "metadata": {},
     "output_type": "execute_result"
    }
   ],
   "source": [
    "df.columns"
   ]
  },
  {
   "cell_type": "code",
   "execution_count": 49,
   "metadata": {},
   "outputs": [
    {
     "name": "stdout",
     "output_type": "stream",
     "text": [
      "Corr: 0.01972 p-value: 3.337e-45\n"
     ]
    }
   ],
   "source": [
    "corr, p = pearsonr(df['vowels_in_profilename'], df['Unhelpful_rating'])\n",
    "\n",
    "print(\"Corr: {:.4} p-value: {:.4}\".format(corr, p))"
   ]
  },
  {
   "cell_type": "code",
   "execution_count": 50,
   "metadata": {},
   "outputs": [],
   "source": [
    "df['profile_length'] = df['ProfileName'].map(lambda x: len(str(x)))"
   ]
  },
  {
   "cell_type": "code",
   "execution_count": 51,
   "metadata": {},
   "outputs": [],
   "source": [
    "df['vowel_fraction'] = df['vowels_in_profilename'] / df['profile_length']"
   ]
  },
  {
   "cell_type": "code",
   "execution_count": 52,
   "metadata": {},
   "outputs": [
    {
     "data": {
      "text/plain": [
       "(-0.0057915908750957824, 3.4343995200950789e-05)"
      ]
     },
     "execution_count": 52,
     "metadata": {},
     "output_type": "execute_result"
    }
   ],
   "source": [
    "pearsonr(df['vowel_fraction'], df['Summary_length'])"
   ]
  },
  {
   "cell_type": "code",
   "execution_count": 80,
   "metadata": {},
   "outputs": [],
   "source": [
    "df['profile_cap'] = df['ProfileName'].map(lambda x: 1 if str(x)[0].isupper() else 0)"
   ]
  },
  {
   "cell_type": "code",
   "execution_count": 93,
   "metadata": {},
   "outputs": [],
   "source": [
    "def uppering(char):\n",
    "    return 1 if char.isupper() else 0\n",
    "\n",
    "def upper_counter(s):\n",
    "    return sum([uppering(x) for x in str(s)])\n",
    "\n",
    "df['num_caps'] = df['ProfileName'].map(upper_counter)"
   ]
  },
  {
   "cell_type": "code",
   "execution_count": 102,
   "metadata": {},
   "outputs": [
    {
     "data": {
      "text/plain": [
       "(0.013425615087467473, 7.7403494576993481e-22)"
      ]
     },
     "execution_count": 102,
     "metadata": {},
     "output_type": "execute_result"
    }
   ],
   "source": [
    "pearsonr(df['num_caps'], df['Unhelpful_rating'])"
   ]
  },
  {
   "cell_type": "code",
   "execution_count": 114,
   "metadata": {},
   "outputs": [],
   "source": [
    "tr = DecisionTreeClassifier()"
   ]
  },
  {
   "cell_type": "code",
   "execution_count": 115,
   "metadata": {},
   "outputs": [],
   "source": [
    "features = ['num_caps', 'profile_cap','vowel_fraction','profile_length','is_fullname','has_quotes']"
   ]
  },
  {
   "cell_type": "code",
   "execution_count": 116,
   "metadata": {},
   "outputs": [],
   "source": [
    "target = ['helpful_not_zero']"
   ]
  },
  {
   "cell_type": "code",
   "execution_count": 117,
   "metadata": {},
   "outputs": [],
   "source": [
    "X_train, X_test, y_train, y_test = train_test_split(df[features], df[target])"
   ]
  },
  {
   "cell_type": "code",
   "execution_count": 118,
   "metadata": {},
   "outputs": [
    {
     "data": {
      "text/plain": [
       "DecisionTreeClassifier(class_weight=None, criterion='gini', max_depth=None,\n",
       "            max_features=None, max_leaf_nodes=None,\n",
       "            min_impurity_decrease=0.0, min_impurity_split=None,\n",
       "            min_samples_leaf=1, min_samples_split=2,\n",
       "            min_weight_fraction_leaf=0.0, presort=False, random_state=None,\n",
       "            splitter='best')"
      ]
     },
     "execution_count": 118,
     "metadata": {},
     "output_type": "execute_result"
    }
   ],
   "source": [
    "tr.fit(X_train, y_train)"
   ]
  },
  {
   "cell_type": "code",
   "execution_count": 119,
   "metadata": {},
   "outputs": [
    {
     "data": {
      "text/plain": [
       "0.55262972721515524"
      ]
     },
     "execution_count": 119,
     "metadata": {},
     "output_type": "execute_result"
    }
   ],
   "source": [
    "tr.score(X_test, y_test)"
   ]
  },
  {
   "cell_type": "code",
   "execution_count": 121,
   "metadata": {},
   "outputs": [
    {
     "data": {
      "text/plain": [
       "0.53245686702028738"
      ]
     },
     "execution_count": 121,
     "metadata": {},
     "output_type": "execute_result"
    }
   ],
   "source": [
    "roc_auc_score(y_test, tr.predict(X_test))"
   ]
  },
  {
   "cell_type": "code",
   "execution_count": 140,
   "metadata": {},
   "outputs": [
    {
     "data": {
      "text/html": [
       "<div>\n",
       "<style scoped>\n",
       "    .dataframe tbody tr th:only-of-type {\n",
       "        vertical-align: middle;\n",
       "    }\n",
       "\n",
       "    .dataframe tbody tr th {\n",
       "        vertical-align: top;\n",
       "    }\n",
       "\n",
       "    .dataframe thead th {\n",
       "        text-align: right;\n",
       "    }\n",
       "</style>\n",
       "<table border=\"1\" class=\"dataframe\">\n",
       "  <thead>\n",
       "    <tr style=\"text-align: right;\">\n",
       "      <th></th>\n",
       "      <th>features</th>\n",
       "      <th>importance</th>\n",
       "    </tr>\n",
       "  </thead>\n",
       "  <tbody>\n",
       "    <tr>\n",
       "      <th>2</th>\n",
       "      <td>vowel_fraction</td>\n",
       "      <td>0.339785</td>\n",
       "    </tr>\n",
       "    <tr>\n",
       "      <th>0</th>\n",
       "      <td>num_caps</td>\n",
       "      <td>0.291270</td>\n",
       "    </tr>\n",
       "    <tr>\n",
       "      <th>3</th>\n",
       "      <td>profile_length</td>\n",
       "      <td>0.258375</td>\n",
       "    </tr>\n",
       "    <tr>\n",
       "      <th>4</th>\n",
       "      <td>is_fullname</td>\n",
       "      <td>0.042597</td>\n",
       "    </tr>\n",
       "    <tr>\n",
       "      <th>1</th>\n",
       "      <td>profile_cap</td>\n",
       "      <td>0.038920</td>\n",
       "    </tr>\n",
       "    <tr>\n",
       "      <th>5</th>\n",
       "      <td>has_quotes</td>\n",
       "      <td>0.029053</td>\n",
       "    </tr>\n",
       "  </tbody>\n",
       "</table>\n",
       "</div>"
      ],
      "text/plain": [
       "         features  importance\n",
       "2  vowel_fraction    0.339785\n",
       "0        num_caps    0.291270\n",
       "3  profile_length    0.258375\n",
       "4     is_fullname    0.042597\n",
       "1     profile_cap    0.038920\n",
       "5      has_quotes    0.029053"
      ]
     },
     "execution_count": 140,
     "metadata": {},
     "output_type": "execute_result"
    }
   ],
   "source": [
    "pd.DataFrame({'features':features,\n",
    "              'importance':tr.feature_importances_}).sort_values(by = 'importance', ascending = False)\n",
    "\n",
    "# from sklearn.externals.six import StringIO  \n",
    "# from IPython.display import Image  \n",
    "# from sklearn.tree import export_graphviz\n",
    "# import pydotplus\n",
    "\n",
    "# dot_data = export_graphviz(tr, out_file=None)\n",
    "\n",
    "\n",
    "\n",
    "# graph = pydotplus.graph_from_dot_data(dot_data)  \n",
    "# Image(graph.create_png())"
   ]
  },
  {
   "cell_type": "code",
   "execution_count": 155,
   "metadata": {},
   "outputs": [],
   "source": [
    "from sklearn.ensemble import AdaBoostClassifier, RandomForestClassifier"
   ]
  },
  {
   "cell_type": "code",
   "execution_count": 165,
   "metadata": {},
   "outputs": [],
   "source": [
    "ada = AdaBoostClassifier(base_estimator=DecisionTreeClassifier(),n_estimators=10)"
   ]
  },
  {
   "cell_type": "code",
   "execution_count": 175,
   "metadata": {},
   "outputs": [
    {
     "data": {
      "text/plain": [
       "AdaBoostClassifier(algorithm='SAMME.R',\n",
       "          base_estimator=DecisionTreeClassifier(class_weight=None, criterion='gini', max_depth=None,\n",
       "            max_features=None, max_leaf_nodes=None,\n",
       "            min_impurity_decrease=0.0, min_impurity_split=None,\n",
       "            min_samples_leaf=1, min_samples_split=2,\n",
       "            min_weight_fraction_leaf=0.0, presort=False, random_state=None,\n",
       "            splitter='best'),\n",
       "          learning_rate=1.0, n_estimators=10, random_state=None)"
      ]
     },
     "execution_count": 175,
     "metadata": {},
     "output_type": "execute_result"
    }
   ],
   "source": [
    "ada.fit(X_train, y_train.values.reshape(383706,))"
   ]
  },
  {
   "cell_type": "code",
   "execution_count": 176,
   "metadata": {},
   "outputs": [],
   "source": [
    "from sklearn.model_selection import cross_val_score"
   ]
  },
  {
   "cell_type": "code",
   "execution_count": 179,
   "metadata": {},
   "outputs": [
    {
     "data": {
      "text/plain": [
       "array([ 0.55363426,  0.55511395,  0.55606521,  0.55136107,  0.55524426])"
      ]
     },
     "execution_count": 179,
     "metadata": {},
     "output_type": "execute_result"
    }
   ],
   "source": [
    "cross_val_score(ada, X_train, y_train.values.reshape(383706,), cv = 5)"
   ]
  },
  {
   "cell_type": "code",
   "execution_count": 185,
   "metadata": {},
   "outputs": [],
   "source": [
    "from sklearn.metrics import classification_report, roc_curve"
   ]
  },
  {
   "cell_type": "code",
   "execution_count": 183,
   "metadata": {},
   "outputs": [
    {
     "name": "stdout",
     "output_type": "stream",
     "text": [
      "             precision    recall  f1-score   support\n",
      "\n",
      "          0       0.55      0.84      0.67     68154\n",
      "          1       0.55      0.23      0.32     59749\n",
      "\n",
      "avg / total       0.55      0.55      0.51    127903\n",
      "\n"
     ]
    }
   ],
   "source": [
    "print(classification_report(y_test, ada.predict(X_test)))"
   ]
  },
  {
   "cell_type": "code",
   "execution_count": 193,
   "metadata": {},
   "outputs": [],
   "source": [
    "fpr, tpr, _ = roc_curve(y_test, [i[1] for i in ada.predict_proba(X_test)])"
   ]
  },
  {
   "cell_type": "code",
   "execution_count": 203,
   "metadata": {},
   "outputs": [
    {
     "data": {
      "text/plain": [
       "<matplotlib.legend.Legend at 0x1a190ab7b8>"
      ]
     },
     "execution_count": 203,
     "metadata": {},
     "output_type": "execute_result"
    },
    {
     "data": {
      "image/png": "[encoded data removed]",
      "text/plain": [
       "<matplotlib.figure.Figure at 0x1a73d3bf98>"
      ]
     },
     "metadata": {},
     "output_type": "display_data"
    }
   ],
   "source": [
    "vert = 0.505\n",
    "plt.figure(figsize = (14,10))\n",
    "plt.plot(fpr, tpr, label = \"ROC curve for AdaBoost Model\")\n",
    "plt.plot([0, 1], [0, 1], color='navy', lw=1, linestyle='--', alpha=  0.4, label = \"0.5\")\n",
    "plt.plot([0,1], [0.6,0.6], linestyle = '--')\n",
    "plt.plot([vert,vert], [0,1], linestyle = '--')\n",
    "plt.legend(fontsize = 14)\n",
    "# plt.savefig(\"../assets/visualizations/roc.png\")"
   ]
  },
  {
   "cell_type": "code",
   "execution_count": 209,
   "metadata": {},
   "outputs": [],
   "source": [
    "minidf = df[features].join(df[target])"
   ]
  },
  {
   "cell_type": "code",
   "execution_count": 217,
   "metadata": {},
   "outputs": [
    {
     "data": {
      "text/plain": [
       "(980,)"
      ]
     },
     "execution_count": 217,
     "metadata": {},
     "output_type": "execute_result"
    }
   ],
   "source": [
    "df['ProfileName'][df['profile_length'] == df['profile_length'].min()].shape"
   ]
  },
  {
   "cell_type": "code",
   "execution_count": 218,
   "metadata": {},
   "outputs": [],
   "source": [
    "minidf['is_oneletter_profilename'] = df['ProfileName'].map(lambda x: 1 if len(str(x))==1 else 0)"
   ]
  },
  {
   "cell_type": "code",
   "execution_count": 219,
   "metadata": {},
   "outputs": [
    {
     "data": {
      "text/plain": [
       "<matplotlib.axes._subplots.AxesSubplot at 0x1a72fb2b00>"
      ]
     },
     "execution_count": 219,
     "metadata": {},
     "output_type": "execute_result"
    },
    {
     "data": {
      "image/png": "[encoded data removed]",
      "text/plain": [
       "<matplotlib.figure.Figure at 0x1a72f94cc0>"
      ]
     },
     "metadata": {},
     "output_type": "display_data"
    }
   ],
   "source": [
    "sns.heatmap(minidf.corr(), annot =  True)"
   ]
  },
  {
   "cell_type": "code",
   "execution_count": 53,
   "metadata": {},
   "outputs": [],
   "source": [
    "# freq_num_caps_0 = pd.DataFrame(minidf[minidf['helpful_not_zero'] == 0]['num_caps'].value_counts().sort_values())\n",
    "\n",
    "# freq_num_caps_0.sort_index(inplace=True)\n",
    "\n",
    "# freq_num_caps_1 = pd.DataFrame(minidf[minidf['helpful_not_zero'] == 1]['num_caps'].value_counts().sort_values())\n",
    "\n",
    "# freq_num_caps_1.sort_index(inplace=True)\n",
    "\n",
    "# plt.barh(y = freq_num_caps_0.index, width = freq_num_caps['num_caps'])\n",
    "\n",
    "# plt.barh(y = freq_num_caps_1.index, width = freq_num_caps['num_caps'])"
   ]
  },
  {
   "cell_type": "code",
   "execution_count": 248,
   "metadata": {},
   "outputs": [
    {
     "data": {
      "text/plain": [
       "<Container object of 33 artists>"
      ]
     },
     "execution_count": 248,
     "metadata": {},
     "output_type": "execute_result"
    },
    {
     "data": {
      "image/png": "[encoded data removed]",
      "text/plain": [
       "<matplotlib.figure.Figure at 0x1a76f66c50>"
      ]
     },
     "metadata": {},
     "output_type": "display_data"
    }
   ],
   "source": [
    "freq_num_caps = pd.DataFrame(minidf[minidf['helpful_not_zero'] == 1]['num_caps'].value_counts().sort_values())\n",
    "\n",
    "freq_num_caps.sort_index(inplace=True)\n",
    "\n",
    "plt.barh(y = freq_num_caps.index, width = freq_num_caps['num_caps'])"
   ]
  },
  {
   "cell_type": "code",
   "execution_count": 253,
   "metadata": {},
   "outputs": [
    {
     "data": {
      "text/plain": [
       "ProductId                 0\n",
       "UserId                    0\n",
       "ProfileName              15\n",
       "Score                     0\n",
       "Time                      0\n",
       "Summary                  26\n",
       "Text                      0\n",
       "Helpful_rating            0\n",
       "Unhelpful_rating          0\n",
       "Summary_length            0\n",
       "helpful_not_zero          0\n",
       "score_5                   0\n",
       "has_quotes                0\n",
       "is_fullname               0\n",
       "vowels_in_profilename     0\n",
       "profile_length            0\n",
       "vowel_fraction            0\n",
       "profile_cap               0\n",
       "num_caps                  0\n",
       "dtype: int64"
      ]
     },
     "execution_count": 253,
     "metadata": {},
     "output_type": "execute_result"
    }
   ],
   "source": [
    "df.isna().sum()"
   ]
  },
  {
   "cell_type": "code",
   "execution_count": 137,
   "metadata": {},
   "outputs": [],
   "source": [
    "from sklearn.naive_bayes import BernoulliNB\n",
    "from sklearn.feature_extraction.text import CountVectorizer\n",
    "from sklearn.model_selection import cross_val_score\n",
    "from sklearn.pipeline import Pipeline"
   ]
  },
  {
   "cell_type": "code",
   "execution_count": 138,
   "metadata": {},
   "outputs": [],
   "source": [
    "df = df[df['ProfileName'].notna()]"
   ]
  },
  {
   "cell_type": "code",
   "execution_count": 139,
   "metadata": {},
   "outputs": [],
   "source": [
    "y = df['helpful_not_zero']"
   ]
  },
  {
   "cell_type": "code",
   "execution_count": 140,
   "metadata": {},
   "outputs": [],
   "source": [
    "X_train, X_test, y_train, y_test = train_test_split(df['ProfileName'], y)"
   ]
  },
  {
   "cell_type": "code",
   "execution_count": 141,
   "metadata": {},
   "outputs": [],
   "source": [
    "letters_countvec = CountVectorizer(analyzer='char',ngram_range=(1,4))"
   ]
  },
  {
   "cell_type": "code",
   "execution_count": 142,
   "metadata": {},
   "outputs": [],
   "source": [
    "bnb = BernoulliNB(fit_prior=True)"
   ]
  },
  {
   "cell_type": "code",
   "execution_count": 143,
   "metadata": {},
   "outputs": [],
   "source": [
    "vectorize_and_naivebayes = Pipeline([('lcvec', letters_countvec),\n",
    "                                     ('bnb', bnb)])"
   ]
  },
  {
   "cell_type": "code",
   "execution_count": 144,
   "metadata": {},
   "outputs": [
    {
     "data": {
      "text/plain": [
       "array([ 0.58733063,  0.59131495,  0.59206555])"
      ]
     },
     "execution_count": 144,
     "metadata": {},
     "output_type": "execute_result"
    }
   ],
   "source": [
    "cross_val_score(vectorize_and_naivebayes, X_train, y_train)"
   ]
  },
  {
   "cell_type": "markdown",
   "metadata": {},
   "source": [
    "Haha, character-based NaiveBayes is CRUSHING my engineered features."
   ]
  },
  {
   "cell_type": "code",
   "execution_count": 146,
   "metadata": {},
   "outputs": [
    {
     "data": {
      "text/plain": [
       "Pipeline(memory=None,\n",
       "     steps=[('lcvec', CountVectorizer(analyzer='char', binary=False, decode_error='strict',\n",
       "        dtype=<class 'numpy.int64'>, encoding='utf-8', input='content',\n",
       "        lowercase=True, max_df=1.0, max_features=None, min_df=1,\n",
       "        ngram_range=(1, 4), preprocessor=None, stop_words=None,\n",
       "        strip_accents=None, token_pattern='(?u)\\\\b\\\\w\\\\w+\\\\b',\n",
       "        tokenizer=None, vocabulary=None)), ('bnb', BernoulliNB(alpha=1.0, binarize=0.0, class_prior=None, fit_prior=True))])"
      ]
     },
     "execution_count": 146,
     "metadata": {},
     "output_type": "execute_result"
    }
   ],
   "source": [
    "vectorize_and_naivebayes.fit(X_train, y_train)"
   ]
  },
  {
   "cell_type": "code",
   "execution_count": 147,
   "metadata": {},
   "outputs": [
    {
     "data": {
      "text/plain": [
       "0.59259259259259256"
      ]
     },
     "execution_count": 147,
     "metadata": {},
     "output_type": "execute_result"
    }
   ],
   "source": [
    "vectorize_and_naivebayes.score(X_test, y_test)"
   ]
  },
  {
   "cell_type": "code",
   "execution_count": 151,
   "metadata": {},
   "outputs": [
    {
     "data": {
      "text/plain": [
       "<matplotlib.axes._subplots.AxesSubplot at 0x1a262e1e10>"
      ]
     },
     "execution_count": 151,
     "metadata": {},
     "output_type": "execute_result"
    },
    {
     "data": {
      "image/png": "[encoded data removed]",
      "text/plain": [
       "<matplotlib.figure.Figure at 0x1a19ade780>"
      ]
     },
     "metadata": {},
     "output_type": "display_data"
    }
   ],
   "source": [
    "sns.heatmap(confusion_matrix(y_test, vectorize_and_naivebayes.predict(X_test)), annot = True, fmt = 'g')"
   ]
  },
  {
   "cell_type": "code",
   "execution_count": null,
   "metadata": {},
   "outputs": [],
   "source": []
  }
 ],
 "metadata": {
  "kernelspec": {
   "display_name": "Python [conda root]",
   "language": "python",
   "name": "conda-root-py"
  },
  "language_info": {
   "codemirror_mode": {
    "name": "ipython",
    "version": 3
   },
   "file_extension": ".py",
   "mimetype": "text/x-python",
   "name": "python",
   "nbconvert_exporter": "python",
   "pygments_lexer": "ipython3",
   "version": "3.6.4"
  }
 },
 "nbformat": 4,
 "nbformat_minor": 2
}
