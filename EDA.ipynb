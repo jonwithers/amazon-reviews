{
 "cells": [
  {
   "cell_type": "markdown",
   "metadata": {},
   "source": [
    "# Amazon Food Reviews\n",
    "[Source from Kaggle](https://www.kaggle.com/snap/amazon-fine-food-reviews#database.sqlite)\n",
    "\n",
    "This dataset contains 568,454 reviews of food items on Amazon.$^1$ In this project, I will use this data to demonstrate key NLP tasks and techniques, but there are many other uses for this data including social network analysis.\n",
    "\n",
    "<sub>1 When I looked for some of these reviews on Amazon.com, I couldn't find them (6 Aug 2018)</sub>"
   ]
  },
  {
   "cell_type": "markdown",
   "metadata": {},
   "source": [
    "## Imports\n",
    "Nothing too out of the ordinary."
   ]
  },
  {
   "cell_type": "code",
   "execution_count": 1,
   "metadata": {},
   "outputs": [],
   "source": [
    "import pandas as pd\n",
    "import numpy as np\n",
    "\n",
    "import matplotlib.pyplot as plt\n",
    "import seaborn as sns\n",
    "\n",
    "import re\n",
    "\n",
    "from sklearn.metrics import confusion_matrix"
   ]
  },
  {
   "cell_type": "markdown",
   "metadata": {},
   "source": [
    "## Reading the data\n",
    "For now it is contained in a repo in this directory as a csv file. After reading it in, look at the shape and top of the dataframe to make sure it loaded."
   ]
  },
  {
   "cell_type": "code",
   "execution_count": 2,
   "metadata": {},
   "outputs": [],
   "source": [
    "df = pd.read_csv(\"./data/Reviews.csv\", index_col=0)"
   ]
  },
  {
   "cell_type": "code",
   "execution_count": 3,
   "metadata": {},
   "outputs": [
    {
     "data": {
      "text/plain": [
       "(568454, 9)"
      ]
     },
     "execution_count": 3,
     "metadata": {},
     "output_type": "execute_result"
    }
   ],
   "source": [
    "df.shape"
   ]
  },
  {
   "cell_type": "code",
   "execution_count": 4,
   "metadata": {},
   "outputs": [
    {
     "data": {
      "text/html": [
       "<div>\n",
       "<style scoped>\n",
       "    .dataframe tbody tr th:only-of-type {\n",
       "        vertical-align: middle;\n",
       "    }\n",
       "\n",
       "    .dataframe tbody tr th {\n",
       "        vertical-align: top;\n",
       "    }\n",
       "\n",
       "    .dataframe thead th {\n",
       "        text-align: right;\n",
       "    }\n",
       "</style>\n",
       "<table border=\"1\" class=\"dataframe\">\n",
       "  <thead>\n",
       "    <tr style=\"text-align: right;\">\n",
       "      <th></th>\n",
       "      <th>ProductId</th>\n",
       "      <th>UserId</th>\n",
       "      <th>ProfileName</th>\n",
       "      <th>HelpfulnessNumerator</th>\n",
       "      <th>HelpfulnessDenominator</th>\n",
       "      <th>Score</th>\n",
       "      <th>Time</th>\n",
       "      <th>Summary</th>\n",
       "      <th>Text</th>\n",
       "    </tr>\n",
       "    <tr>\n",
       "      <th>Id</th>\n",
       "      <th></th>\n",
       "      <th></th>\n",
       "      <th></th>\n",
       "      <th></th>\n",
       "      <th></th>\n",
       "      <th></th>\n",
       "      <th></th>\n",
       "      <th></th>\n",
       "      <th></th>\n",
       "    </tr>\n",
       "  </thead>\n",
       "  <tbody>\n",
       "    <tr>\n",
       "      <th>1</th>\n",
       "      <td>B001E4KFG0</td>\n",
       "      <td>A3SGXH7AUHU8GW</td>\n",
       "      <td>delmartian</td>\n",
       "      <td>1</td>\n",
       "      <td>1</td>\n",
       "      <td>5</td>\n",
       "      <td>1303862400</td>\n",
       "      <td>Good Quality Dog Food</td>\n",
       "      <td>I have bought several of the Vitality canned d...</td>\n",
       "    </tr>\n",
       "    <tr>\n",
       "      <th>2</th>\n",
       "      <td>B00813GRG4</td>\n",
       "      <td>A1D87F6ZCVE5NK</td>\n",
       "      <td>dll pa</td>\n",
       "      <td>0</td>\n",
       "      <td>0</td>\n",
       "      <td>1</td>\n",
       "      <td>1346976000</td>\n",
       "      <td>Not as Advertised</td>\n",
       "      <td>Product arrived labeled as Jumbo Salted Peanut...</td>\n",
       "    </tr>\n",
       "  </tbody>\n",
       "</table>\n",
       "</div>"
      ],
      "text/plain": [
       "     ProductId          UserId ProfileName  HelpfulnessNumerator  \\\n",
       "Id                                                                 \n",
       "1   B001E4KFG0  A3SGXH7AUHU8GW  delmartian                     1   \n",
       "2   B00813GRG4  A1D87F6ZCVE5NK      dll pa                     0   \n",
       "\n",
       "    HelpfulnessDenominator  Score        Time                Summary  \\\n",
       "Id                                                                     \n",
       "1                        1      5  1303862400  Good Quality Dog Food   \n",
       "2                        0      1  1346976000      Not as Advertised   \n",
       "\n",
       "                                                 Text  \n",
       "Id                                                     \n",
       "1   I have bought several of the Vitality canned d...  \n",
       "2   Product arrived labeled as Jumbo Salted Peanut...  "
      ]
     },
     "execution_count": 4,
     "metadata": {},
     "output_type": "execute_result"
    }
   ],
   "source": [
    "df.head(2)"
   ]
  },
  {
   "cell_type": "markdown",
   "metadata": {},
   "source": [
    "## Get validation data\n",
    "Right off the bat, reserve 10% for validation after all modeling is done. I don't want to use `train_test_split` because there isn't a set target yet."
   ]
  },
  {
   "cell_type": "code",
   "execution_count": 5,
   "metadata": {},
   "outputs": [],
   "source": [
    "# Set a validation size as 10% of the total data (round down)\n",
    "val_size = int(df.shape[0]* 0.1)"
   ]
  },
  {
   "cell_type": "code",
   "execution_count": 6,
   "metadata": {},
   "outputs": [],
   "source": [
    "# Randomly select from the index\n",
    "np.random.seed(11010)\n",
    "val_index = np.sort(np.random.choice(df.index, size = val_size, replace = False, ))"
   ]
  },
  {
   "cell_type": "code",
   "execution_count": 7,
   "metadata": {},
   "outputs": [
    {
     "name": "stdout",
     "output_type": "stream",
     "text": [
      "[    17     22     40 ..., 568409 568430 568452]\n"
     ]
    }
   ],
   "source": [
    "print(val_index)"
   ]
  },
  {
   "cell_type": "code",
   "execution_count": 8,
   "metadata": {},
   "outputs": [],
   "source": [
    "# And the rest of the data is set in a new index\n",
    "notval_index = set(df.index) - set(val_index)"
   ]
  },
  {
   "cell_type": "code",
   "execution_count": 9,
   "metadata": {},
   "outputs": [],
   "source": [
    "# Assign the rows by index to the two dataframes\n",
    "val = df.loc[val_index, :]"
   ]
  },
  {
   "cell_type": "code",
   "execution_count": 10,
   "metadata": {},
   "outputs": [],
   "source": [
    "df = df.loc[notval_index, :]"
   ]
  },
  {
   "cell_type": "code",
   "execution_count": 11,
   "metadata": {},
   "outputs": [
    {
     "name": "stdout",
     "output_type": "stream",
     "text": [
      "Number of rows in new dataframe:  511609\n"
     ]
    }
   ],
   "source": [
    "print(\"Number of rows in new dataframe: \", df.shape[0])"
   ]
  },
  {
   "cell_type": "code",
   "execution_count": 12,
   "metadata": {},
   "outputs": [
    {
     "name": "stdout",
     "output_type": "stream",
     "text": [
      "Number of rows in validation dataframe:  56845\n"
     ]
    }
   ],
   "source": [
    "print(\"Number of rows in validation dataframe: \",val.shape[0])"
   ]
  },
  {
   "cell_type": "markdown",
   "metadata": {},
   "source": [
    "## EDA\n",
    "What are the data types in the set? (`object` means string in the pandas context)"
   ]
  },
  {
   "cell_type": "code",
   "execution_count": 13,
   "metadata": {},
   "outputs": [
    {
     "data": {
      "text/plain": [
       "ProductId                 object\n",
       "UserId                    object\n",
       "ProfileName               object\n",
       "HelpfulnessNumerator       int64\n",
       "HelpfulnessDenominator     int64\n",
       "Score                      int64\n",
       "Time                       int64\n",
       "Summary                   object\n",
       "Text                      object\n",
       "dtype: object"
      ]
     },
     "execution_count": 13,
     "metadata": {},
     "output_type": "execute_result"
    }
   ],
   "source": [
    "df.dtypes"
   ]
  },
  {
   "cell_type": "markdown",
   "metadata": {},
   "source": [
    "`ProductId` and `UserId` are hashes. Let's check to be sure that for every unique `UserId` we get the same `ProfileName`. (The number of unique user IDs should be greater than or equal to the number of unique profile names, assuming that it's possible for people to choose non-unique profile names.)"
   ]
  },
  {
   "cell_type": "code",
   "execution_count": 15,
   "metadata": {},
   "outputs": [
    {
     "name": "stdout",
     "output_type": "stream",
     "text": [
      "There are 238026 unique user IDs.\n",
      "There are 203756 unique profile names. \n"
     ]
    }
   ],
   "source": [
    "print(\"There are {} unique user IDs.\".format(len(df['UserId'].unique())))\n",
    "print(\"There are {} unique profile names. \".format(len(df['ProfileName'].unique())))"
   ]
  },
  {
   "cell_type": "code",
   "execution_count": 16,
   "metadata": {},
   "outputs": [
    {
     "data": {
      "text/plain": [
       "count             511609\n",
       "unique            238026\n",
       "top       A3OXHLG6DIBRW8\n",
       "freq                 401\n",
       "Name: UserId, dtype: object"
      ]
     },
     "execution_count": 16,
     "metadata": {},
     "output_type": "execute_result"
    }
   ],
   "source": [
    "df['UserId'].describe()"
   ]
  },
  {
   "cell_type": "code",
   "execution_count": 17,
   "metadata": {},
   "outputs": [
    {
     "name": "stdout",
     "output_type": "stream",
     "text": [
      "There are 46 user Ids with more than one associated profile name.\n"
     ]
    }
   ],
   "source": [
    "i = 0\n",
    "for l in df.groupby('UserId')['ProfileName'].unique():\n",
    "    if len(l) != 1:\n",
    "        i += 1\n",
    "print(f\"There are {i} user Ids with more than one associated profile name.\")"
   ]
  },
  {
   "cell_type": "markdown",
   "metadata": {},
   "source": [
    "Of the user Ids with more than one associated user name, there are always 2 names. Either one of them is 'A Customer', or the two names are somewhat plausibly related (initials versus full name, or some kind of website, for example.)"
   ]
  },
  {
   "cell_type": "markdown",
   "metadata": {},
   "source": [
    "Helpfulness is a measure of how users rate a review by clicking either helpful or not helpful. This is expressed on the website as `X of Y users found this review helpful`. I'd rather know how many users clicked each option, so I'm going to translate the numerator and denominator to ups and downs."
   ]
  },
  {
   "cell_type": "code",
   "execution_count": 18,
   "metadata": {},
   "outputs": [
    {
     "data": {
      "text/html": [
       "<div>\n",
       "<style scoped>\n",
       "    .dataframe tbody tr th:only-of-type {\n",
       "        vertical-align: middle;\n",
       "    }\n",
       "\n",
       "    .dataframe tbody tr th {\n",
       "        vertical-align: top;\n",
       "    }\n",
       "\n",
       "    .dataframe thead th {\n",
       "        text-align: right;\n",
       "    }\n",
       "</style>\n",
       "<table border=\"1\" class=\"dataframe\">\n",
       "  <thead>\n",
       "    <tr style=\"text-align: right;\">\n",
       "      <th></th>\n",
       "      <th>HelpfulnessNumerator</th>\n",
       "      <th>HelpfulnessDenominator</th>\n",
       "    </tr>\n",
       "    <tr>\n",
       "      <th>Id</th>\n",
       "      <th></th>\n",
       "      <th></th>\n",
       "    </tr>\n",
       "  </thead>\n",
       "  <tbody>\n",
       "    <tr>\n",
       "      <th>1</th>\n",
       "      <td>1</td>\n",
       "      <td>1</td>\n",
       "    </tr>\n",
       "    <tr>\n",
       "      <th>2</th>\n",
       "      <td>0</td>\n",
       "      <td>0</td>\n",
       "    </tr>\n",
       "    <tr>\n",
       "      <th>3</th>\n",
       "      <td>1</td>\n",
       "      <td>1</td>\n",
       "    </tr>\n",
       "    <tr>\n",
       "      <th>4</th>\n",
       "      <td>3</td>\n",
       "      <td>3</td>\n",
       "    </tr>\n",
       "    <tr>\n",
       "      <th>5</th>\n",
       "      <td>0</td>\n",
       "      <td>0</td>\n",
       "    </tr>\n",
       "  </tbody>\n",
       "</table>\n",
       "</div>"
      ],
      "text/plain": [
       "    HelpfulnessNumerator  HelpfulnessDenominator\n",
       "Id                                              \n",
       "1                      1                       1\n",
       "2                      0                       0\n",
       "3                      1                       1\n",
       "4                      3                       3\n",
       "5                      0                       0"
      ]
     },
     "execution_count": 18,
     "metadata": {},
     "output_type": "execute_result"
    }
   ],
   "source": [
    "df[['HelpfulnessNumerator', 'HelpfulnessDenominator']].head()"
   ]
  },
  {
   "cell_type": "code",
   "execution_count": 19,
   "metadata": {},
   "outputs": [],
   "source": [
    "df['Helpful_rating'] = df['HelpfulnessNumerator']\n",
    "df['Unhelpful_rating'] = df['HelpfulnessDenominator'] - df['HelpfulnessNumerator']\n",
    "df.drop(['HelpfulnessNumerator', 'HelpfulnessDenominator'], axis=1, inplace=True)"
   ]
  },
  {
   "cell_type": "code",
   "execution_count": 21,
   "metadata": {},
   "outputs": [],
   "source": [
    "df['Summary_length'] = df['Summary'].map(lambda x: len(str(x)))"
   ]
  },
  {
   "cell_type": "code",
   "execution_count": 22,
   "metadata": {},
   "outputs": [
    {
     "data": {
      "text/html": [
       "<div>\n",
       "<style scoped>\n",
       "    .dataframe tbody tr th:only-of-type {\n",
       "        vertical-align: middle;\n",
       "    }\n",
       "\n",
       "    .dataframe tbody tr th {\n",
       "        vertical-align: top;\n",
       "    }\n",
       "\n",
       "    .dataframe thead th {\n",
       "        text-align: right;\n",
       "    }\n",
       "</style>\n",
       "<table border=\"1\" class=\"dataframe\">\n",
       "  <thead>\n",
       "    <tr style=\"text-align: right;\">\n",
       "      <th></th>\n",
       "      <th>ProductId</th>\n",
       "      <th>UserId</th>\n",
       "      <th>ProfileName</th>\n",
       "      <th>Score</th>\n",
       "      <th>Time</th>\n",
       "      <th>Summary</th>\n",
       "      <th>Text</th>\n",
       "      <th>Helpful_rating</th>\n",
       "      <th>Unhelpful_rating</th>\n",
       "      <th>Summary_length</th>\n",
       "    </tr>\n",
       "    <tr>\n",
       "      <th>Id</th>\n",
       "      <th></th>\n",
       "      <th></th>\n",
       "      <th></th>\n",
       "      <th></th>\n",
       "      <th></th>\n",
       "      <th></th>\n",
       "      <th></th>\n",
       "      <th></th>\n",
       "      <th></th>\n",
       "      <th></th>\n",
       "    </tr>\n",
       "  </thead>\n",
       "  <tbody>\n",
       "    <tr>\n",
       "      <th>1</th>\n",
       "      <td>B001E4KFG0</td>\n",
       "      <td>A3SGXH7AUHU8GW</td>\n",
       "      <td>delmartian</td>\n",
       "      <td>5</td>\n",
       "      <td>1303862400</td>\n",
       "      <td>Good Quality Dog Food</td>\n",
       "      <td>I have bought several of the Vitality canned d...</td>\n",
       "      <td>1</td>\n",
       "      <td>0</td>\n",
       "      <td>21</td>\n",
       "    </tr>\n",
       "    <tr>\n",
       "      <th>2</th>\n",
       "      <td>B00813GRG4</td>\n",
       "      <td>A1D87F6ZCVE5NK</td>\n",
       "      <td>dll pa</td>\n",
       "      <td>1</td>\n",
       "      <td>1346976000</td>\n",
       "      <td>Not as Advertised</td>\n",
       "      <td>Product arrived labeled as Jumbo Salted Peanut...</td>\n",
       "      <td>0</td>\n",
       "      <td>0</td>\n",
       "      <td>17</td>\n",
       "    </tr>\n",
       "  </tbody>\n",
       "</table>\n",
       "</div>"
      ],
      "text/plain": [
       "     ProductId          UserId ProfileName  Score        Time  \\\n",
       "Id                                                              \n",
       "1   B001E4KFG0  A3SGXH7AUHU8GW  delmartian      5  1303862400   \n",
       "2   B00813GRG4  A1D87F6ZCVE5NK      dll pa      1  1346976000   \n",
       "\n",
       "                  Summary                                               Text  \\\n",
       "Id                                                                             \n",
       "1   Good Quality Dog Food  I have bought several of the Vitality canned d...   \n",
       "2       Not as Advertised  Product arrived labeled as Jumbo Salted Peanut...   \n",
       "\n",
       "    Helpful_rating  Unhelpful_rating  Summary_length  \n",
       "Id                                                    \n",
       "1                1                 0              21  \n",
       "2                0                 0              17  "
      ]
     },
     "execution_count": 22,
     "metadata": {},
     "output_type": "execute_result"
    }
   ],
   "source": [
    "df.head(2)"
   ]
  },
  {
   "cell_type": "code",
   "execution_count": 24,
   "metadata": {},
   "outputs": [
    {
     "data": {
      "text/plain": [
       "<matplotlib.axes._subplots.AxesSubplot at 0x1a15b30668>"
      ]
     },
     "execution_count": 24,
     "metadata": {},
     "output_type": "execute_result"
    },
    {
     "data": {
      "image/png": "[encoded data removed]",
      "text/plain": [
       "<matplotlib.figure.Figure at 0x1a15828fd0>"
      ]
     },
     "metadata": {},
     "output_type": "display_data"
    }
   ],
   "source": [
    "sns.regplot(x = 'Summary_length', y = 'Helpful_rating', data = df, scatter_kws={'alpha': 0.2})"
   ]
  },
  {
   "cell_type": "code",
   "execution_count": 25,
   "metadata": {},
   "outputs": [
    {
     "data": {
      "text/plain": [
       "<matplotlib.axes._subplots.AxesSubplot at 0x1a15591940>"
      ]
     },
     "execution_count": 25,
     "metadata": {},
     "output_type": "execute_result"
    },
    {
     "data": {
      "image/png": "[encoded data removed]",
      "text/plain": [
       "<matplotlib.figure.Figure at 0x1a15828b00>"
      ]
     },
     "metadata": {},
     "output_type": "display_data"
    }
   ],
   "source": [
    "sns.distplot(df['Summary_length'], kde = False)"
   ]
  },
  {
   "cell_type": "code",
   "execution_count": 26,
   "metadata": {},
   "outputs": [
    {
     "data": {
      "text/html": [
       "<div>\n",
       "<style scoped>\n",
       "    .dataframe tbody tr th:only-of-type {\n",
       "        vertical-align: middle;\n",
       "    }\n",
       "\n",
       "    .dataframe tbody tr th {\n",
       "        vertical-align: top;\n",
       "    }\n",
       "\n",
       "    .dataframe thead th {\n",
       "        text-align: right;\n",
       "    }\n",
       "</style>\n",
       "<table border=\"1\" class=\"dataframe\">\n",
       "  <thead>\n",
       "    <tr style=\"text-align: right;\">\n",
       "      <th></th>\n",
       "      <th>ProductId</th>\n",
       "      <th>UserId</th>\n",
       "      <th>ProfileName</th>\n",
       "      <th>Score</th>\n",
       "      <th>Time</th>\n",
       "      <th>Summary</th>\n",
       "      <th>Text</th>\n",
       "      <th>Helpful_rating</th>\n",
       "      <th>Unhelpful_rating</th>\n",
       "      <th>Summary_length</th>\n",
       "    </tr>\n",
       "    <tr>\n",
       "      <th>Id</th>\n",
       "      <th></th>\n",
       "      <th></th>\n",
       "      <th></th>\n",
       "      <th></th>\n",
       "      <th></th>\n",
       "      <th></th>\n",
       "      <th></th>\n",
       "      <th></th>\n",
       "      <th></th>\n",
       "      <th></th>\n",
       "    </tr>\n",
       "  </thead>\n",
       "  <tbody>\n",
       "    <tr>\n",
       "      <th>190734</th>\n",
       "      <td>B000FI4O90</td>\n",
       "      <td>A1GQGYROVZVW49</td>\n",
       "      <td>P. Schmidt</td>\n",
       "      <td>5</td>\n",
       "      <td>1164672000</td>\n",
       "      <td>Works as Advertised - Classy Product</td>\n",
       "      <td>see update at end of review&lt;br /&gt;&lt;br /&gt;*******...</td>\n",
       "      <td>866</td>\n",
       "      <td>12</td>\n",
       "      <td>36</td>\n",
       "    </tr>\n",
       "  </tbody>\n",
       "</table>\n",
       "</div>"
      ],
      "text/plain": [
       "         ProductId          UserId ProfileName  Score        Time  \\\n",
       "Id                                                                  \n",
       "190734  B000FI4O90  A1GQGYROVZVW49  P. Schmidt      5  1164672000   \n",
       "\n",
       "                                     Summary  \\\n",
       "Id                                             \n",
       "190734  Works as Advertised - Classy Product   \n",
       "\n",
       "                                                     Text  Helpful_rating  \\\n",
       "Id                                                                          \n",
       "190734  see update at end of review<br /><br />*******...             866   \n",
       "\n",
       "        Unhelpful_rating  Summary_length  \n",
       "Id                                        \n",
       "190734                12              36  "
      ]
     },
     "execution_count": 26,
     "metadata": {},
     "output_type": "execute_result"
    }
   ],
   "source": [
    "df[df['Helpful_rating'] == df['Helpful_rating'].max()]"
   ]
  },
  {
   "cell_type": "code",
   "execution_count": 27,
   "metadata": {},
   "outputs": [
    {
     "data": {
      "text/plain": [
       "'I was lamenting about only having frech lettuce, herbs, chives, and tomatoes from may garden during the long fall-winter-spring parts of the year. '"
      ]
     },
     "execution_count": 27,
     "metadata": {},
     "output_type": "execute_result"
    }
   ],
   "source": [
    "df.loc[190734, 'Text'][69:216]"
   ]
  },
  {
   "cell_type": "code",
   "execution_count": 28,
   "metadata": {},
   "outputs": [
    {
     "data": {
      "text/plain": [
       "count    511609.000000\n",
       "mean          4.183089\n",
       "std           1.310103\n",
       "min           1.000000\n",
       "25%           4.000000\n",
       "50%           5.000000\n",
       "75%           5.000000\n",
       "max           5.000000\n",
       "Name: Score, dtype: float64"
      ]
     },
     "execution_count": 28,
     "metadata": {},
     "output_type": "execute_result"
    }
   ],
   "source": [
    "df['Score'].describe()"
   ]
  },
  {
   "cell_type": "code",
   "execution_count": 29,
   "metadata": {},
   "outputs": [
    {
     "data": {
      "image/png": "[encoded data removed]",
      "text/plain": [
       "<matplotlib.figure.Figure at 0x1a155a21d0>"
      ]
     },
     "metadata": {},
     "output_type": "display_data"
    }
   ],
   "source": [
    "plt.bar(x = df.groupby('Score')['Summary'].count().index, \n",
    "        height = df.groupby('Score')['Summary'].count().values,\n",
    "        width = 1,\n",
    "        color = 'xkcd:deep blue',\n",
    "        alpha = 0.8)\n",
    "\n",
    "plt.title(\"Distribution of Scores\", fontsize = 22)\n",
    "plt.xticks(fontsize = 18)\n",
    "plt.yticks(fontsize = 14)\n",
    "plt.show()"
   ]
  },
  {
   "cell_type": "markdown",
   "metadata": {},
   "source": [
    "## Getting X and y\n",
    "For fun, I could extract some features from `ProfileName` and try to use that to predict how helpful a score they give. Since this isn't super serious, I'm going to pick 5 or not 5 as a new categorical target variable."
   ]
  },
  {
   "cell_type": "code",
   "execution_count": 34,
   "metadata": {},
   "outputs": [
    {
     "data": {
      "text/plain": [
       "count    511609.000000\n",
       "mean          1.742612\n",
       "std           7.669413\n",
       "min           0.000000\n",
       "25%           0.000000\n",
       "50%           0.000000\n",
       "75%           2.000000\n",
       "max         866.000000\n",
       "Name: Helpful_rating, dtype: float64"
      ]
     },
     "execution_count": 34,
     "metadata": {},
     "output_type": "execute_result"
    }
   ],
   "source": [
    "df['Helpful_rating'].describe()"
   ]
  },
  {
   "cell_type": "code",
   "execution_count": 36,
   "metadata": {},
   "outputs": [
    {
     "data": {
      "text/plain": [
       "<matplotlib.axes._subplots.AxesSubplot at 0x1a155a2860>"
      ]
     },
     "execution_count": 36,
     "metadata": {},
     "output_type": "execute_result"
    },
    {
     "data": {
      "image/png": "[encoded data removed]",
      "text/plain": [
       "<matplotlib.figure.Figure at 0x1a1a6535c0>"
      ]
     },
     "metadata": {},
     "output_type": "display_data"
    }
   ],
   "source": [
    "sns.distplot(df['Helpful_rating'], kde = False, hist_kws={'log': True})"
   ]
  },
  {
   "cell_type": "code",
   "execution_count": 37,
   "metadata": {},
   "outputs": [],
   "source": [
    "df['helpful_not_zero'] = df['Helpful_rating'].map(lambda x: 1 if x != 0 else 0)"
   ]
  },
  {
   "cell_type": "code",
   "execution_count": 31,
   "metadata": {},
   "outputs": [],
   "source": [
    "df['score_5'] = df['Score'].map(lambda x: 1 if x == 5 else 0)"
   ]
  },
  {
   "cell_type": "code",
   "execution_count": 39,
   "metadata": {},
   "outputs": [
    {
     "data": {
      "text/plain": [
       "([<matplotlib.axis.XTick at 0x1a1bb18f60>,\n",
       "  <matplotlib.axis.XTick at 0x1a1d61e588>],\n",
       " <a list of 2 Text xticklabel objects>)"
      ]
     },
     "execution_count": 39,
     "metadata": {},
     "output_type": "execute_result"
    },
    {
     "data": {
      "image/png": "[encoded data removed]",
      "text/plain": [
       "<matplotlib.figure.Figure at 0x1a1c40da58>"
      ]
     },
     "metadata": {},
     "output_type": "display_data"
    }
   ],
   "source": [
    "plt.bar(x = df.groupby('helpful_not_zero')['Summary'].count().index, \n",
    "        height = df.groupby('helpful_not_zero')['Summary'].count().values)\n",
    "plt.xticks([0,1], ['zero', 'more than zero'])"
   ]
  },
  {
   "cell_type": "code",
   "execution_count": 32,
   "metadata": {},
   "outputs": [
    {
     "data": {
      "text/plain": [
       "([<matplotlib.axis.XTick at 0x1a1574a0b8>,\n",
       "  <matplotlib.axis.XTick at 0x1a1a5fde10>],\n",
       " <a list of 2 Text xticklabel objects>)"
      ]
     },
     "execution_count": 32,
     "metadata": {},
     "output_type": "execute_result"
    },
    {
     "data": {
      "image/png": "[encoded data removed]",
      "text/plain": [
       "<matplotlib.figure.Figure at 0x1a1574f240>"
      ]
     },
     "metadata": {},
     "output_type": "display_data"
    }
   ],
   "source": [
    "plt.bar(x = df.groupby('score_5')['Summary'].count().index, \n",
    "        height = df.groupby('score_5')['Summary'].count().values)\n",
    "plt.xticks([0,1], ['less than 5', '5'])"
   ]
  },
  {
   "cell_type": "markdown",
   "metadata": {},
   "source": [
    "Idea #1: usernames with quotes in them might be more or less helpful."
   ]
  },
  {
   "cell_type": "code",
   "execution_count": 40,
   "metadata": {},
   "outputs": [],
   "source": [
    "df['has_quotes'] = df['ProfileName'].str.contains('\"').map(lambda x: 1 if x else 0)"
   ]
  },
  {
   "cell_type": "code",
   "execution_count": 48,
   "metadata": {},
   "outputs": [
    {
     "data": {
      "text/plain": [
       "Text(0.5,1,'Quotes and Helpfulness\\n')"
      ]
     },
     "execution_count": 48,
     "metadata": {},
     "output_type": "execute_result"
    },
    {
     "data": {
      "image/png": "[encoded data removed]",
      "text/plain": [
       "<matplotlib.figure.Figure at 0x1a1c129048>"
      ]
     },
     "metadata": {},
     "output_type": "display_data"
    }
   ],
   "source": [
    "sns.heatmap(confusion_matrix(df['helpful_not_zero'], df['has_quotes']), annot = True, fmt = 'g', cmap = 'binary')\n",
    "plt.ylabel(\"Helpfulness is or isn't 0\", fontsize = 15)\n",
    "plt.xlabel(\"Name has or doesn't have quotes in it\", fontsize = 15)\n",
    "plt.title(\"Quotes and Helpfulness\\n\", fontsize = 18)"
   ]
  },
  {
   "cell_type": "code",
   "execution_count": 47,
   "metadata": {},
   "outputs": [
    {
     "data": {
      "text/plain": [
       "Text(0.5,1,'Quotes and Score\\n')"
      ]
     },
     "execution_count": 47,
     "metadata": {},
     "output_type": "execute_result"
    },
    {
     "data": {
      "image/png": "[encoded data removed]",
      "text/plain": [
       "<matplotlib.figure.Figure at 0x1a1a5f9be0>"
      ]
     },
     "metadata": {},
     "output_type": "display_data"
    }
   ],
   "source": [
    "sns.heatmap(confusion_matrix(df['score_5'], df['has_quotes']), annot = True, fmt = 'g', cmap = 'binary')\n",
    "plt.ylabel(\"Score is or isn't 5\", fontsize = 15)\n",
    "plt.xlabel(\"Name has or doesn't have quotes in it\", fontsize = 15)\n",
    "plt.title(\"Quotes and Score\\n\", fontsize = 18)"
   ]
  },
  {
   "cell_type": "code",
   "execution_count": 56,
   "metadata": {},
   "outputs": [
    {
     "name": "stdout",
     "output_type": "stream",
     "text": [
      "Has no quotes in name and didn't give a 5:    135218\n",
      "Has no quotes in name and gave a 5:           236701\n",
      "Has quotes in name and didn't give a 5:        49685\n",
      "Has quotes in name and gave a 5:               90005\n",
      "\n",
      "64.43% of users with quotes in their name gave a five-star rating.\n",
      "63.64% of users without quotes in their name gave a five-star rating.\n"
     ]
    }
   ],
   "source": [
    "no_quotes_no_five = df[(df['has_quotes'] == 0 ) & (df['score_5'] == 0 )].shape[0]\n",
    "no_quotes_yes_five = df[(df['has_quotes'] == 0 ) & (df['score_5'] == 1 )].shape[0]\n",
    "yes_quotes_no_five = df[(df['has_quotes'] == 1 ) & (df['score_5'] == 0 )].shape[0]\n",
    "yes_quotes_yes_five = df[(df['has_quotes'] == 1 ) & (df['score_5'] == 1 )].shape[0]\n",
    "\n",
    "no_quotes_total = df[(df['has_quotes'] == 0 )].shape[0]\n",
    "yes_quotes_total = df[(df['has_quotes'] == 1 )].shape[0]\n",
    "\n",
    "print(\"Has no quotes in name and didn't give a 5: \".ljust(45), no_quotes_no_five)\n",
    "print(\"Has no quotes in name and gave a 5: \".ljust(45), no_quotes_yes_five)\n",
    "print(\"Has quotes in name and didn't give a 5: \".ljust(46), yes_quotes_no_five)\n",
    "print(\"Has quotes in name and gave a 5: \".ljust(46), yes_quotes_yes_five)\n",
    "print()\n",
    "print(\"{:.2%} of users with quotes in their name gave a five-star rating.\".format(yes_quotes_yes_five/yes_quotes_total))\n",
    "print(\"{:.2%} of users without quotes in their name gave a five-star rating.\".format(no_quotes_yes_five/no_quotes_total))"
   ]
  },
  {
   "cell_type": "code",
   "execution_count": 58,
   "metadata": {},
   "outputs": [
    {
     "name": "stdout",
     "output_type": "stream",
     "text": [
      "Has no quotes in name and got a zero in helpfulness:              203586\n",
      "Has no quotes in name and got above zero in helpfulness:          168333\n",
      "Has quotes in name and got a zero in helpfulness:                  69879\n",
      "Has quotes in name and got above zero in helpfulness:              69811\n",
      "\n",
      "49.98% of users with quotes in their name were helpful.\n",
      "45.26% of users without quotes in their name were helpful.\n"
     ]
    }
   ],
   "source": [
    "no_quotes_not_helpful = df[(df['has_quotes'] == 0 ) & (df['helpful_not_zero'] == 0 )].shape[0]\n",
    "no_quotes_yes_helpful = df[(df['has_quotes'] == 0 ) & (df['helpful_not_zero'] == 1 )].shape[0]\n",
    "yes_quotes_not_helpful = df[(df['has_quotes'] == 1 ) & (df['helpful_not_zero'] == 0 )].shape[0]\n",
    "yes_quotes_yes_helpful = df[(df['has_quotes'] == 1 ) & (df['helpful_not_zero'] == 1 )].shape[0]\n",
    "\n",
    "print(\"Has no quotes in name and got a zero in helpfulness: \".ljust(65), no_quotes_not_helpful)\n",
    "print(\"Has no quotes in name and got above zero in helpfulness: \".ljust(65), no_quotes_yes_helpful)\n",
    "print(\"Has quotes in name and got a zero in helpfulness: \".ljust(66), yes_quotes_not_helpful)\n",
    "print(\"Has quotes in name and got above zero in helpfulness: \".ljust(66), yes_quotes_yes_helpful)\n",
    "print()\n",
    "print(\"{:.2%} of users with quotes in their name were helpful.\".format(yes_quotes_yes_helpful/yes_quotes_total))\n",
    "print(\"{:.2%} of users without quotes in their name were helpful.\".format(no_quotes_yes_helpful/no_quotes_total))"
   ]
  },
  {
   "cell_type": "markdown",
   "metadata": {},
   "source": [
    "OK, so this isn't really paying off. How about checking to see if a username fits the pattern First M. Last?"
   ]
  },
  {
   "cell_type": "code",
   "execution_count": 65,
   "metadata": {},
   "outputs": [],
   "source": [
    "def full_name_check(text):\n",
    "    pattern = r\"\\b[A-Z][a-z]+ [A-Z]. [A-Z][a-z]+\"\n",
    "    if re.match(pattern=pattern, string=str(text)) != None:\n",
    "        return 1\n",
    "    else:\n",
    "        return 0"
   ]
  },
  {
   "cell_type": "code",
   "execution_count": 66,
   "metadata": {},
   "outputs": [],
   "source": [
    "df['is_fullname'] = df['ProfileName'].map(full_name_check)"
   ]
  },
  {
   "cell_type": "code",
   "execution_count": 68,
   "metadata": {},
   "outputs": [
    {
     "name": "stdout",
     "output_type": "stream",
     "text": [
      "Not a fullname, got a zero in helpfulness:                        249459\n",
      "Not a fullname, got above zero in helpfulness:                    215989\n",
      "Fullname, got a zero in helpfulness:                               24006\n",
      "Fullname, got above zero in helpfulness:                           22155\n",
      "\n",
      "48.00% of users with full names were helpful.\n",
      "46.40% of users without full names were helpful.\n"
     ]
    }
   ],
   "source": [
    "no_fullname_not_helpful = df[(df['is_fullname'] == 0 ) & (df['helpful_not_zero'] == 0 )].shape[0]\n",
    "no_fullname_yes_helpful = df[(df['is_fullname'] == 0 ) & (df['helpful_not_zero'] == 1 )].shape[0]\n",
    "yes_fullname_not_helpful = df[(df['is_fullname'] == 1 ) & (df['helpful_not_zero'] == 0 )].shape[0]\n",
    "yes_fullname_yes_helpful = df[(df['is_fullname'] == 1 ) & (df['helpful_not_zero'] == 1 )].shape[0]\n",
    "\n",
    "no_fullname_total = df[df['is_fullname'] == 0].shape[0]\n",
    "yes_fullname_total = df[df['is_fullname'] == 1].shape[0]\n",
    "\n",
    "print(\"Not a fullname, got a zero in helpfulness: \".ljust(65), no_fullname_not_helpful)\n",
    "print(\"Not a fullname, got above zero in helpfulness: \".ljust(65), no_fullname_yes_helpful)\n",
    "print(\"Fullname, got a zero in helpfulness: \".ljust(66), yes_fullname_not_helpful)\n",
    "print(\"Fullname, got above zero in helpfulness: \".ljust(66), yes_fullname_yes_helpful)\n",
    "print()\n",
    "print(\"{:.2%} of users with full names were helpful.\".format(yes_fullname_yes_helpful/yes_fullname_total))\n",
    "print(\"{:.2%} of users without full names were helpful.\".format(no_fullname_yes_helpful/no_fullname_total))"
   ]
  },
  {
   "cell_type": "code",
   "execution_count": 69,
   "metadata": {},
   "outputs": [
    {
     "name": "stdout",
     "output_type": "stream",
     "text": [
      "Not a fullname, gave below 5 stars:                               169889\n",
      "Not a fullname, gave 5 stars:                                     295559\n",
      "Fullname, gave below 5 stars:                                      15014\n",
      "Fullname, gave 5 stars:                                            31147\n",
      "\n",
      "67.47% of users with full names gave 5 stars.\n",
      "63.50% of users without full names gave 5 stars.\n"
     ]
    }
   ],
   "source": [
    "no_fullname_not_five = df[(df['is_fullname'] == 0 ) & (df['score_5'] == 0 )].shape[0]\n",
    "no_fullname_yes_five = df[(df['is_fullname'] == 0 ) & (df['score_5'] == 1 )].shape[0]\n",
    "yes_fullname_not_five = df[(df['is_fullname'] == 1 ) & (df['score_5'] == 0 )].shape[0]\n",
    "yes_fullname_yes_five = df[(df['is_fullname'] == 1 ) & (df['score_5'] == 1 )].shape[0]\n",
    "\n",
    "no_fullname_total = df[df['is_fullname'] == 0].shape[0]\n",
    "yes_fullname_total = df[df['is_fullname'] == 1].shape[0]\n",
    "\n",
    "print(\"Not a fullname, gave below 5 stars: \".ljust(65), no_fullname_not_five)\n",
    "print(\"Not a fullname, gave 5 stars: \".ljust(65), no_fullname_yes_five)\n",
    "print(\"Fullname, gave below 5 stars: \".ljust(66), yes_fullname_not_five)\n",
    "print(\"Fullname, gave 5 stars: \".ljust(66), yes_fullname_yes_five)\n",
    "print()\n",
    "print(\"{:.2%} of users with full names gave 5 stars.\".format(yes_fullname_yes_five/yes_fullname_total))\n",
    "print(\"{:.2%} of users without full names gave 5 stars.\".format(no_fullname_yes_five/no_fullname_total))"
   ]
  },
  {
   "cell_type": "markdown",
   "metadata": {},
   "source": [
    "Next, what about if there aren't very many vowels in a username? It's more likely to be a random \"kewl\" username and not someone's real name. Do users who prize anonymity behave and/or are treated differently?"
   ]
  },
  {
   "cell_type": "code",
   "execution_count": 84,
   "metadata": {},
   "outputs": [],
   "source": [
    "def vowel_counter(text):\n",
    "    vowels = {'a', 'e', 'i', 'o', 'u'}\n",
    "    count = 0\n",
    "    for letter in str(text):\n",
    "        if letter.lower() in vowels:\n",
    "            count += 1\n",
    "    return count"
   ]
  },
  {
   "cell_type": "code",
   "execution_count": 86,
   "metadata": {},
   "outputs": [],
   "source": [
    "df['vowels_in_profilename'] = df['ProfileName'].map(vowel_counter)"
   ]
  },
  {
   "cell_type": "code",
   "execution_count": 88,
   "metadata": {},
   "outputs": [
    {
     "data": {
      "text/plain": [
       "<matplotlib.axes._subplots.AxesSubplot at 0x1a1f1e0f98>"
      ]
     },
     "execution_count": 88,
     "metadata": {},
     "output_type": "execute_result"
    },
    {
     "data": {
      "image/png": "[encoded data removed]",
      "text/plain": [
       "<matplotlib.figure.Figure at 0x1a1f1ad3c8>"
      ]
     },
     "metadata": {},
     "output_type": "display_data"
    }
   ],
   "source": [
    "sns.distplot(df['vowels_in_profilename'], kde = False)"
   ]
  },
  {
   "cell_type": "code",
   "execution_count": 89,
   "metadata": {},
   "outputs": [
    {
     "data": {
      "text/plain": [
       "<matplotlib.axes._subplots.AxesSubplot at 0x1a1f7aeb70>"
      ]
     },
     "execution_count": 89,
     "metadata": {},
     "output_type": "execute_result"
    },
    {
     "data": {
      "image/png": "[encoded data removed]",
      "text/plain": [
       "<matplotlib.figure.Figure at 0x1a1fb00160>"
      ]
     },
     "metadata": {},
     "output_type": "display_data"
    }
   ],
   "source": [
    "sns.regplot(x = 'vowels_in_profilename', y = 'Helpful_rating', data = df)"
   ]
  },
  {
   "cell_type": "code",
   "execution_count": null,
   "metadata": {},
   "outputs": [],
   "source": []
  }
 ],
 "metadata": {
  "kernelspec": {
   "display_name": "Python [conda root]",
   "language": "python",
   "name": "conda-root-py"
  },
  "language_info": {
   "codemirror_mode": {
    "name": "ipython",
    "version": 3
   },
   "file_extension": ".py",
   "mimetype": "text/x-python",
   "name": "python",
   "nbconvert_exporter": "python",
   "pygments_lexer": "ipython3",
   "version": "3.6.4"
  }
 },
 "nbformat": 4,
 "nbformat_minor": 2
}
