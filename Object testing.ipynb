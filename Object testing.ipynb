{
 "cells": [
  {
   "cell_type": "code",
   "execution_count": 7,
   "metadata": {},
   "outputs": [],
   "source": [
    "import pandas as pd\n",
    "import numpy as np\n",
    "\n",
    "import re\n",
    "\n",
    "import matplotlib.pyplot as plt\n",
    "import seaborn as sns\n",
    "\n",
    "from sklearn.preprocessing import StandardScaler\n",
    "from sklearn.pipeline import Pipeline\n",
    "from sklearn.model_selection import train_test_split, cross_val_score\n",
    "from sklearn.tree import DecisionTreeClassifier\n",
    "from sklearn.ensemble import RandomForestClassifier, AdaBoostClassifier, ExtraTreesClassifier\n",
    "from sklearn.grid_search import GridSearchCV\n",
    "\n",
    "from sklearn import metrics\n",
    "\n",
    "from sklearn.metrics import confusion_matrix"
   ]
  },
  {
   "cell_type": "code",
   "execution_count": 8,
   "metadata": {},
   "outputs": [],
   "source": [
    "class FeatureExtractor(StandardScaler):\n",
    "    \"\"\"Extracts several potentially important features from an Amazon username:\n",
    "        - is_fullname\n",
    "        - vowels_in_profilename\n",
    "        - profile_length\n",
    "        - profile_cap (is the profile capitalized?)\n",
    "        - num_caps\n",
    "        \"\"\"\n",
    "    def __init__(self):\n",
    "        return None\n",
    "    \n",
    "    def fit(self, y=None):\n",
    "        return self\n",
    "    \n",
    "    def transform(self, X):\n",
    "        X_copy = X.copy()\n",
    "        X_copy['has_quotes'] = X_copy['ProfileName'].str.contains('\"').map(lambda x: 1 if x else 0)\n",
    "        \n",
    "        def full_name_check(text):\n",
    "            pattern = r\"\\b[A-Z][a-z]+ [A-Z]. [A-Z][a-z]+\"\n",
    "            if re.match(pattern=pattern, string=str(text)) != None:\n",
    "                return 1\n",
    "            else:\n",
    "                return 0\n",
    "        X_copy['is_fullname'] = X_copy['ProfileName'].map(full_name_check)\n",
    "        \n",
    "        def vowel_counter(text):\n",
    "            vowels = {'a', 'e', 'i', 'o', 'u'}\n",
    "            count = 0\n",
    "            for letter in str(text):\n",
    "                if letter.lower() in vowels:\n",
    "                    count += 1\n",
    "            return count\n",
    "        X_copy['vowels_in_profilename'] = X_copy['ProfileName'].map(vowel_counter)\n",
    "        \n",
    "        X_copy['profile_length'] = X_copy['ProfileName'].map(lambda x: len(str(x)))\n",
    "        \n",
    "        X_copy['profile_cap'] = X_copy['ProfileName'].map(lambda x: 1 if str(x)[0].isupper() else 0)\n",
    "        def uppering(char):\n",
    "            return 1 if char.isupper() else 0\n",
    "\n",
    "        def upper_counter(s):\n",
    "            return sum([uppering(x) for x in str(s)])\n",
    "\n",
    "        X_copy['num_caps'] = X_copy['ProfileName'].map(upper_counter)\n",
    "        X_copy.drop(['ProfileName'], axis = 1, inplace = True)\n",
    "        X_copy = X_copy.values\n",
    "        return X_copy\n",
    "        \n",
    "    def fit_transform(self, X, y=None):\n",
    "        self.fit()\n",
    "        return self.transform(X)\n"
   ]
  },
  {
   "cell_type": "code",
   "execution_count": 13,
   "metadata": {},
   "outputs": [],
   "source": [
    "def fit_and_make_report(model, show_best = False):\n",
    "    model.fit(X_train, y_train)\n",
    "    if show_best:\n",
    "        print(model.best_estimator_)\n",
    "    cvs = cross_val_score(model, X_train, y_train, cv = 10)\n",
    "    print(\"Mean cross-val score: {:.2%}\".format(cvs.mean()))\n",
    "    print(\"Cross-val score standard deviation: {:.2%}\".format(cvs.std()))\n",
    "    print(\"Model Score on test data: {:.2%}\".format(model.score(X_test, y_test)))\n",
    "    print(\"--\")\n",
    "    print(\"Area under ROC curve Score on test data: {:.2%}\".format(metrics.roc_auc_score(y_test, [i[1] for i in model.predict_proba(X_test)])))\n",
    "    sns.heatmap(confusion_matrix(y_test, model.predict(X_test)), annot = True, fmt = 'g')\n",
    "    plt.show()"
   ]
  },
  {
   "cell_type": "code",
   "execution_count": 14,
   "metadata": {},
   "outputs": [],
   "source": [
    "df = pd.read_csv('./data/Reviews.csv')\n",
    "df = df[df['ProfileName'].notna()]\n",
    "\n",
    "df['helpfulness'] = df['HelpfulnessNumerator'].map(lambda x: 1 if x > 0 else 0)\n",
    "\n",
    "X_train, X_test, y_train, y_test = train_test_split(df[['ProfileName']], df['helpfulness'])"
   ]
  },
  {
   "cell_type": "code",
   "execution_count": 15,
   "metadata": {},
   "outputs": [],
   "source": [
    "feature_extraction = FeatureExtractor()\n",
    "xtra = ExtraTreesClassifier(n_estimators=16, max_depth=4)\n",
    "\n",
    "steps = [('feature_extraction', feature_extraction), ('xtra', xtra)]\n",
    "\n",
    "extract_and_xtra = Pipeline(steps)"
   ]
  },
  {
   "cell_type": "code",
   "execution_count": 16,
   "metadata": {},
   "outputs": [
    {
     "name": "stdout",
     "output_type": "stream",
     "text": [
      "Mean cross-val score: 53.75%\n",
      "Cross-val score standard deviation: 0.19%\n",
      "Model Score on test data: 53.62%\n",
      "--\n",
      "Area under ROC curve Score on test data: 53.40%\n"
     ]
    },
    {
     "data": {
      "image/png": "[encoded data removed]",
      "text/plain": [
       "<matplotlib.figure.Figure at 0x10e6d5080>"
      ]
     },
     "metadata": {},
     "output_type": "display_data"
    }
   ],
   "source": [
    "fit_and_make_report(extract_and_xtra)"
   ]
  },
  {
   "cell_type": "code",
   "execution_count": 19,
   "metadata": {},
   "outputs": [
    {
     "name": "stdout",
     "output_type": "stream",
     "text": [
      "             precision    recall  f1-score   support\n",
      "\n",
      "          0       0.54      0.88      0.67     75820\n",
      "          1       0.51      0.14      0.22     66290\n",
      "\n",
      "avg / total       0.53      0.54      0.46    142110\n",
      "\n"
     ]
    }
   ],
   "source": [
    "print(metrics.classification_report(y_test, extract_and_xtra.predict(X_test)))"
   ]
  },
  {
   "cell_type": "code",
   "execution_count": 17,
   "metadata": {},
   "outputs": [],
   "source": [
    "feature_extraction = FeatureExtractor()\n",
    "rf = RandomForestClassifier()\n",
    "steps = [('feature_extraction', feature_extraction), ('rf', rf)]\n",
    "\n",
    "extract_and_rf = Pipeline(steps)\n",
    "\n",
    "params = {\n",
    "    \"rf__n_estimators\": [10,15,20],\n",
    "    \"rf__max_depth\": [None, 4]\n",
    "}\n",
    "gridsearch = GridSearchCV(extract_and_rf, param_grid=params)"
   ]
  },
  {
   "cell_type": "code",
   "execution_count": 18,
   "metadata": {},
   "outputs": [
    {
     "name": "stdout",
     "output_type": "stream",
     "text": [
      "Pipeline(memory=None,\n",
      "     steps=[('feature_extraction', FeatureExtractor()), ('rf', RandomForestClassifier(bootstrap=True, class_weight=None, criterion='gini',\n",
      "            max_depth=None, max_features='auto', max_leaf_nodes=None,\n",
      "            min_impurity_decrease=0.0, min_impurity_split=None,\n",
      "            min_samples_leaf=1, min_samples_split=2,\n",
      "            min_weight_fraction_leaf=0.0, n_estimators=15, n_jobs=1,\n",
      "            oob_score=False, random_state=None, verbose=0,\n",
      "            warm_start=False))])\n",
      "Mean cross-val score: 55.43%\n",
      "Cross-val score standard deviation: 0.14%\n",
      "Model Score on test data: 55.47%\n",
      "--\n",
      "Area under ROC curve Score on test data: 56.48%\n"
     ]
    },
    {
     "data": {
      "image/png": "[encoded data removed]",
      "text/plain": [
       "<matplotlib.figure.Figure at 0x1a23068b00>"
      ]
     },
     "metadata": {},
     "output_type": "display_data"
    }
   ],
   "source": [
    "fit_and_make_report(gridsearch, show_best = True)"
   ]
  },
  {
   "cell_type": "code",
   "execution_count": 20,
   "metadata": {},
   "outputs": [
    {
     "name": "stdout",
     "output_type": "stream",
     "text": [
      "             precision    recall  f1-score   support\n",
      "\n",
      "          0       0.56      0.82      0.66     75820\n",
      "          1       0.55      0.26      0.35     66290\n",
      "\n",
      "avg / total       0.55      0.55      0.52    142110\n",
      "\n"
     ]
    }
   ],
   "source": [
    "print(metrics.classification_report(y_test, gridsearch.predict(X_test)))"
   ]
  },
  {
   "cell_type": "code",
   "execution_count": 31,
   "metadata": {},
   "outputs": [
    {
     "data": {
      "text/plain": [
       "RandomForestClassifier(bootstrap=True, class_weight=None, criterion='gini',\n",
       "            max_depth=None, max_features='auto', max_leaf_nodes=None,\n",
       "            min_impurity_decrease=0.0, min_impurity_split=None,\n",
       "            min_samples_leaf=1, min_samples_split=2,\n",
       "            min_weight_fraction_leaf=0.0, n_estimators=10, n_jobs=1,\n",
       "            oob_score=False, random_state=None, verbose=0,\n",
       "            warm_start=False)"
      ]
     },
     "execution_count": 31,
     "metadata": {},
     "output_type": "execute_result"
    }
   ],
   "source": [
    "gridsearch.estimator.get_params()['steps'][1][1]"
   ]
  },
  {
   "cell_type": "code",
   "execution_count": null,
   "metadata": {},
   "outputs": [],
   "source": []
  }
 ],
 "metadata": {
  "kernelspec": {
   "display_name": "Python [conda root]",
   "language": "python",
   "name": "conda-root-py"
  },
  "language_info": {
   "codemirror_mode": {
    "name": "ipython",
    "version": 3
   },
   "file_extension": ".py",
   "mimetype": "text/x-python",
   "name": "python",
   "nbconvert_exporter": "python",
   "pygments_lexer": "ipython3",
   "version": "3.6.4"
  }
 },
 "nbformat": 4,
 "nbformat_minor": 2
}
